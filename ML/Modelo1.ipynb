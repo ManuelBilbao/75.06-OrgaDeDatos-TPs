{
 "cells": [
  {
   "cell_type": "code",
   "execution_count": null,
   "id": "2177650f-52a4-4e04-9cf5-534a652c7d87",
   "metadata": {},
   "outputs": [],
   "source": [
    "import numpy as np\n",
    "import pandas as pd\n",
    "from sklearn.metrics import roc_auc_score\n",
    "from sklearn.model_selection import RandomizedSearchCV\n",
    "from xgboost import XGBRegressor"
   ]
  },
  {
   "cell_type": "code",
   "execution_count": null,
   "id": "2377163b-0e65-44de-8e5c-738268806c82",
   "metadata": {},
   "outputs": [],
   "source": [
    "dfTransaction = pd.read_csv(\"../Dataset/ML/train_transaction.csv\")\n",
    "dfIdentity = pd.read_csv(\"../Dataset/ML/train_identity.csv\")\n",
    "dfMerge = dfTransaction.merge(dfIdentity, on = \"TransactionID\", how = \"left\")\n",
    "del dfTransaction\n",
    "del dfMerge\n",
    "dfMerge.head()"
   ]
  },
  {
   "cell_type": "code",
   "execution_count": null,
   "id": "f7ea725a-6ec7-4bb1-83be-eb81db3a8d9a",
   "metadata": {},
   "outputs": [],
   "source": [
    "param_grid = {\n",
    "        'silent': [False],\n",
    "        'max_depth': [6, 10, 15, 20],\n",
    "        'learning_rate': [0.001, 0.01, 0.1, 0.2, 0,3],\n",
    "        'subsample': [0.5, 0.6, 0.7, 0.8, 0.9, 1.0],\n",
    "        'colsample_bytree': [0.4, 0.5, 0.6, 0.7, 0.8, 0.9, 1.0],\n",
    "        'colsample_bylevel': [0.4, 0.5, 0.6, 0.7, 0.8, 0.9, 1.0],\n",
    "        'min_child_weight': [0.5, 1.0, 3.0, 5.0, 7.0, 10.0],\n",
    "        'gamma': [0, 0.25, 0.5, 1.0],\n",
    "        'reg_lambda': [0.1, 1.0, 5.0, 10.0, 50.0, 100.0],\n",
    "        'n_estimators': [100]\n",
    "}"
   ]
  },
  {
   "cell_type": "code",
   "execution_count": null,
   "id": "83ea8e8d-8851-4857-bdab-e65594ce9788",
   "metadata": {},
   "outputs": [],
   "source": [
    "fit_params = {'eval_metric': 'mlogloss',\n",
    "              'early_stopping_rounds': 10,\n",
    "              'eval_set': [(X_val.values, y_val)]}"
   ]
  },
  {
   "cell_type": "code",
   "execution_count": null,
   "id": "b499cde5-27c8-4a36-a6ef-a82a56ff523f",
   "metadata": {},
   "outputs": [],
   "source": [
    "clf = XGBRegressor()\n",
    "rs_clf = RandomizedSearchCV(clf, param_grid, n_iter = 20,\n",
    "                            n_jobs = 1, verbose = 2, cv = 3,\n",
    "                            fit_params = fit_params,\n",
    "                            scoring = 'neg_log_loss', refit = False, random_state = 42)"
   ]
  },
  {
   "cell_type": "code",
   "execution_count": null,
   "id": "1f28f614-461c-4f2c-a4aa-231b7e498d73",
   "metadata": {},
   "outputs": [],
   "source": [
    "rs_clf.fit(X_train.values, y_train)"
   ]
  },
  {
   "cell_type": "code",
   "execution_count": null,
   "id": "652664e4-f9b0-4bc5-87d6-80b9365ea11a",
   "metadata": {},
   "outputs": [],
   "source": [
    "best_score = rs_clf.best_score_\n",
    "best_params = rs_clf.best_params_\n",
    "print(\"Best score: {}\".format(best_score))\n",
    "print(\"Best params: \")\n",
    "for param_name in sorted(best_params.keys()):\n",
    "    print('%s: %r' % (param_name, best_params[param_name]))"
   ]
  },
  {
   "cell_type": "code",
   "execution_count": null,
   "id": "bc1f2c3c-f7eb-4444-a19f-7927d7c265fd",
   "metadata": {},
   "outputs": [],
   "source": []
  }
 ],
 "metadata": {
  "kernelspec": {
   "display_name": "Python 3 (ipykernel)",
   "language": "python",
   "name": "python3"
  },
  "language_info": {
   "codemirror_mode": {
    "name": "ipython",
    "version": 3
   },
   "file_extension": ".py",
   "mimetype": "text/x-python",
   "name": "python",
   "nbconvert_exporter": "python",
   "pygments_lexer": "ipython3",
   "version": "3.8.10"
  }
 },
 "nbformat": 4,
 "nbformat_minor": 5
}
