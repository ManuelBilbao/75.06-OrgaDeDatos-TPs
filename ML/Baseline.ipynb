{
 "cells": [
  {
   "cell_type": "markdown",
   "id": "62c6ec31-f085-4ddf-abbe-3b67cf000367",
   "metadata": {},
   "source": [
    "# Baseline"
   ]
  },
  {
   "cell_type": "markdown",
   "id": "905cc90c-9094-433a-ac31-4fad7f973f08",
   "metadata": {
    "tags": []
   },
   "source": [
    "## LogisticRegression"
   ]
  },
  {
   "cell_type": "code",
   "execution_count": 1,
   "id": "bed5775c-7b2a-4f46-84c0-71f7392088ad",
   "metadata": {
    "id": "bed5775c-7b2a-4f46-84c0-71f7392088ad"
   },
   "outputs": [],
   "source": [
    "import numpy as np\n",
    "import pandas as pd\n",
    "import matplotlib.pyplot as plt\n",
    "import seaborn as sns\n",
    "\n",
    "from scipy.stats import uniform\n",
    "from sklearn.model_selection import RandomizedSearchCV\n",
    "from sklearn.linear_model import LogisticRegression\n",
    "from sklearn.metrics import roc_auc_score"
   ]
  },
  {
   "cell_type": "code",
   "execution_count": 2,
   "id": "e37056d2-bb1b-4e07-9417-cbb0e3266c83",
   "metadata": {
    "colab": {
     "base_uri": "https://localhost:8080/",
     "height": 290
    },
    "id": "e37056d2-bb1b-4e07-9417-cbb0e3266c83",
    "outputId": "a5512534-a111-4cb7-92cf-89f7aba78684"
   },
   "outputs": [
    {
     "data": {
      "text/html": [
       "<div>\n",
       "<style scoped>\n",
       "    .dataframe tbody tr th:only-of-type {\n",
       "        vertical-align: middle;\n",
       "    }\n",
       "\n",
       "    .dataframe tbody tr th {\n",
       "        vertical-align: top;\n",
       "    }\n",
       "\n",
       "    .dataframe thead th {\n",
       "        text-align: right;\n",
       "    }\n",
       "</style>\n",
       "<table border=\"1\" class=\"dataframe\">\n",
       "  <thead>\n",
       "    <tr style=\"text-align: right;\">\n",
       "      <th></th>\n",
       "      <th>TransactionID</th>\n",
       "      <th>isFraud</th>\n",
       "      <th>TransactionDT</th>\n",
       "      <th>TransactionAmt</th>\n",
       "      <th>ProductCD</th>\n",
       "      <th>card1</th>\n",
       "      <th>card2</th>\n",
       "      <th>card3</th>\n",
       "      <th>card4</th>\n",
       "      <th>card5</th>\n",
       "      <th>...</th>\n",
       "      <th>id_31</th>\n",
       "      <th>id_32</th>\n",
       "      <th>id_33</th>\n",
       "      <th>id_34</th>\n",
       "      <th>id_35</th>\n",
       "      <th>id_36</th>\n",
       "      <th>id_37</th>\n",
       "      <th>id_38</th>\n",
       "      <th>DeviceType</th>\n",
       "      <th>DeviceInfo</th>\n",
       "    </tr>\n",
       "  </thead>\n",
       "  <tbody>\n",
       "    <tr>\n",
       "      <th>0</th>\n",
       "      <td>2987000</td>\n",
       "      <td>0</td>\n",
       "      <td>86400</td>\n",
       "      <td>68.5</td>\n",
       "      <td>W</td>\n",
       "      <td>13926</td>\n",
       "      <td>NaN</td>\n",
       "      <td>150.0</td>\n",
       "      <td>discover</td>\n",
       "      <td>142.0</td>\n",
       "      <td>...</td>\n",
       "      <td>NaN</td>\n",
       "      <td>NaN</td>\n",
       "      <td>NaN</td>\n",
       "      <td>NaN</td>\n",
       "      <td>NaN</td>\n",
       "      <td>NaN</td>\n",
       "      <td>NaN</td>\n",
       "      <td>NaN</td>\n",
       "      <td>NaN</td>\n",
       "      <td>NaN</td>\n",
       "    </tr>\n",
       "    <tr>\n",
       "      <th>1</th>\n",
       "      <td>2987001</td>\n",
       "      <td>0</td>\n",
       "      <td>86401</td>\n",
       "      <td>29.0</td>\n",
       "      <td>W</td>\n",
       "      <td>2755</td>\n",
       "      <td>404.0</td>\n",
       "      <td>150.0</td>\n",
       "      <td>mastercard</td>\n",
       "      <td>102.0</td>\n",
       "      <td>...</td>\n",
       "      <td>NaN</td>\n",
       "      <td>NaN</td>\n",
       "      <td>NaN</td>\n",
       "      <td>NaN</td>\n",
       "      <td>NaN</td>\n",
       "      <td>NaN</td>\n",
       "      <td>NaN</td>\n",
       "      <td>NaN</td>\n",
       "      <td>NaN</td>\n",
       "      <td>NaN</td>\n",
       "    </tr>\n",
       "    <tr>\n",
       "      <th>2</th>\n",
       "      <td>2987002</td>\n",
       "      <td>0</td>\n",
       "      <td>86469</td>\n",
       "      <td>59.0</td>\n",
       "      <td>W</td>\n",
       "      <td>4663</td>\n",
       "      <td>490.0</td>\n",
       "      <td>150.0</td>\n",
       "      <td>visa</td>\n",
       "      <td>166.0</td>\n",
       "      <td>...</td>\n",
       "      <td>NaN</td>\n",
       "      <td>NaN</td>\n",
       "      <td>NaN</td>\n",
       "      <td>NaN</td>\n",
       "      <td>NaN</td>\n",
       "      <td>NaN</td>\n",
       "      <td>NaN</td>\n",
       "      <td>NaN</td>\n",
       "      <td>NaN</td>\n",
       "      <td>NaN</td>\n",
       "    </tr>\n",
       "    <tr>\n",
       "      <th>3</th>\n",
       "      <td>2987003</td>\n",
       "      <td>0</td>\n",
       "      <td>86499</td>\n",
       "      <td>50.0</td>\n",
       "      <td>W</td>\n",
       "      <td>18132</td>\n",
       "      <td>567.0</td>\n",
       "      <td>150.0</td>\n",
       "      <td>mastercard</td>\n",
       "      <td>117.0</td>\n",
       "      <td>...</td>\n",
       "      <td>NaN</td>\n",
       "      <td>NaN</td>\n",
       "      <td>NaN</td>\n",
       "      <td>NaN</td>\n",
       "      <td>NaN</td>\n",
       "      <td>NaN</td>\n",
       "      <td>NaN</td>\n",
       "      <td>NaN</td>\n",
       "      <td>NaN</td>\n",
       "      <td>NaN</td>\n",
       "    </tr>\n",
       "    <tr>\n",
       "      <th>4</th>\n",
       "      <td>2987004</td>\n",
       "      <td>0</td>\n",
       "      <td>86506</td>\n",
       "      <td>50.0</td>\n",
       "      <td>H</td>\n",
       "      <td>4497</td>\n",
       "      <td>514.0</td>\n",
       "      <td>150.0</td>\n",
       "      <td>mastercard</td>\n",
       "      <td>102.0</td>\n",
       "      <td>...</td>\n",
       "      <td>samsung browser 6.2</td>\n",
       "      <td>32.0</td>\n",
       "      <td>2220x1080</td>\n",
       "      <td>match_status:2</td>\n",
       "      <td>T</td>\n",
       "      <td>F</td>\n",
       "      <td>T</td>\n",
       "      <td>T</td>\n",
       "      <td>mobile</td>\n",
       "      <td>SAMSUNG SM-G892A Build/NRD90M</td>\n",
       "    </tr>\n",
       "  </tbody>\n",
       "</table>\n",
       "<p>5 rows × 434 columns</p>\n",
       "</div>"
      ],
      "text/plain": [
       "   TransactionID  isFraud  TransactionDT  TransactionAmt ProductCD  card1  \\\n",
       "0        2987000        0          86400            68.5         W  13926   \n",
       "1        2987001        0          86401            29.0         W   2755   \n",
       "2        2987002        0          86469            59.0         W   4663   \n",
       "3        2987003        0          86499            50.0         W  18132   \n",
       "4        2987004        0          86506            50.0         H   4497   \n",
       "\n",
       "   card2  card3       card4  card5  ...                id_31  id_32  \\\n",
       "0    NaN  150.0    discover  142.0  ...                  NaN    NaN   \n",
       "1  404.0  150.0  mastercard  102.0  ...                  NaN    NaN   \n",
       "2  490.0  150.0        visa  166.0  ...                  NaN    NaN   \n",
       "3  567.0  150.0  mastercard  117.0  ...                  NaN    NaN   \n",
       "4  514.0  150.0  mastercard  102.0  ...  samsung browser 6.2   32.0   \n",
       "\n",
       "       id_33           id_34  id_35 id_36 id_37  id_38  DeviceType  \\\n",
       "0        NaN             NaN    NaN   NaN   NaN    NaN         NaN   \n",
       "1        NaN             NaN    NaN   NaN   NaN    NaN         NaN   \n",
       "2        NaN             NaN    NaN   NaN   NaN    NaN         NaN   \n",
       "3        NaN             NaN    NaN   NaN   NaN    NaN         NaN   \n",
       "4  2220x1080  match_status:2      T     F     T      T      mobile   \n",
       "\n",
       "                      DeviceInfo  \n",
       "0                            NaN  \n",
       "1                            NaN  \n",
       "2                            NaN  \n",
       "3                            NaN  \n",
       "4  SAMSUNG SM-G892A Build/NRD90M  \n",
       "\n",
       "[5 rows x 434 columns]"
      ]
     },
     "execution_count": 2,
     "metadata": {},
     "output_type": "execute_result"
    }
   ],
   "source": [
    "dfTransaction = pd.read_csv(\"../Dataset/ML/train_transaction.csv\")\n",
    "dfIdentity = pd.read_csv(\"../Dataset/ML/train_identity.csv\")\n",
    "\n",
    "# Uso left ya que pueden haber transacciones sin identidades pero no puede suceder lo contrario\n",
    "dfMerge = dfTransaction.merge(dfIdentity, on = \"TransactionID\", how = \"left\")\n",
    "\n",
    "del dfTransaction\n",
    "del dfIdentity\n",
    "dfMerge.head()"
   ]
  },
  {
   "cell_type": "markdown",
   "id": "ac8ec16c-3d2a-4db9-b8c7-df30d6e947c7",
   "metadata": {},
   "source": [
    "### Split del dataset"
   ]
  },
  {
   "cell_type": "code",
   "execution_count": 3,
   "id": "ce5f5786-8df0-421d-8bae-8c86263407d9",
   "metadata": {
    "id": "ce5f5786-8df0-421d-8bae-8c86263407d9"
   },
   "outputs": [],
   "source": [
    "train_size = int(len(dfMerge) * 0.75)\n",
    "\n",
    "X_train = dfMerge.iloc[:train_size, 1:] # Saco el Transaction ID\n",
    "X_val = dfMerge.iloc[train_size:, 1:] # Saco el Transaction ID\n",
    "y_train = dfMerge[\"isFraud\"].iloc[:train_size]\n",
    "y_val = dfMerge[\"isFraud\"].iloc[train_size:]"
   ]
  },
  {
   "cell_type": "code",
   "execution_count": 4,
   "id": "FgxzR9RY9ql1",
   "metadata": {},
   "outputs": [],
   "source": [
    "del dfMerge"
   ]
  },
  {
   "cell_type": "markdown",
   "id": "f0af806e-97a7-47e3-85dc-efdc355cd67e",
   "metadata": {},
   "source": [
    "### Encoding"
   ]
  },
  {
   "cell_type": "code",
   "execution_count": 5,
   "id": "c94ce367-4e84-4780-b545-c0287a9d56e8",
   "metadata": {
    "id": "c94ce367-4e84-4780-b545-c0287a9d56e8"
   },
   "outputs": [],
   "source": [
    "columnas_categoricas = [\"ProductCD\", \"card1\", \"card2\", \"card3\", \"card4\", \"card5\", \"card6\", \"addr1\", \"addr2\",\n",
    "                        \"P_emaildomain\", \"R_emaildomain\", \"M1\", \"M2\", \"M3\", \"M4\", \"M5\", \"M6\", \"M7\", \"M8\", \"M9\",\n",
    "                        \"DeviceType\", \"DeviceInfo\", 'id_12', 'id_13', 'id_14', 'id_15', 'id_16', 'id_17', 'id_18',\n",
    "                        'id_19', 'id_20', 'id_21', 'id_22', 'id_23', 'id_24', 'id_25', 'id_26', 'id_27', 'id_28',\n",
    "                        'id_29', 'id_30', 'id_31', 'id_32', 'id_33', 'id_34', 'id_35', 'id_36', 'id_37', 'id_38']\n",
    "means = []\n",
    "for columna in columnas_categoricas:\n",
    "    mean_encoded = X_train.groupby(columna)['isFraud'].mean().to_dict()\n",
    "    means += [mean_encoded]\n",
    "    X_train[columna] =  X_train[columna].map(mean_encoded)\n",
    "    X_val[columna] =  X_val[columna].map(mean_encoded)"
   ]
  },
  {
   "cell_type": "code",
   "execution_count": 6,
   "id": "3f3b123a-cced-42f6-89ab-e9f2a43be1cf",
   "metadata": {},
   "outputs": [],
   "source": [
    "for columna in X_train.columns:\n",
    "    X_train[columna].fillna(X_train[columna].mean(), inplace = True)\n",
    "    X_val[columna].fillna(X_val[columna].mean(), inplace = True)"
   ]
  },
  {
   "cell_type": "code",
   "execution_count": 7,
   "id": "f0f3a896-e7a2-4d9e-ab7e-1f9b407fc6da",
   "metadata": {},
   "outputs": [],
   "source": [
    "X_train.drop(\"isFraud\", axis = 1, inplace = True)\n",
    "X_val.drop(\"isFraud\", axis = 1, inplace = True)"
   ]
  },
  {
   "cell_type": "markdown",
   "id": "f58298d4-f75a-4129-b031-975a2a16a4cf",
   "metadata": {},
   "source": [
    "### LogisticRegression con RandomSearch"
   ]
  },
  {
   "cell_type": "code",
   "execution_count": 8,
   "id": "9fb745f5-7c05-4282-b1c5-366556ed9907",
   "metadata": {
    "id": "9fb745f5-7c05-4282-b1c5-366556ed9907"
   },
   "outputs": [],
   "source": [
    "# Hiperparametros del Logistic Regressor para probar en el Random Search\n",
    "model_params = {\n",
    "    \"tol\": uniform(0.5e-4, 1.5e-4),\n",
    "    \"C\": uniform(0.1, 1),\n",
    "    \"fit_intercept\": [True, False],\n",
    "}"
   ]
  },
  {
   "cell_type": "code",
   "execution_count": 9,
   "id": "1020c9d8-ae6b-4ee5-a7cc-c91ddbc1e5de",
   "metadata": {
    "id": "1020c9d8-ae6b-4ee5-a7cc-c91ddbc1e5de"
   },
   "outputs": [],
   "source": [
    "regressor = LogisticRegression(max_iter = 250, penalty = \"l2\")\n",
    "classifier = RandomizedSearchCV(regressor, model_params, n_iter = 20, cv = 3, random_state = 1,\n",
    "                                n_jobs = 1, scoring = \"roc_auc\", verbose = 100)"
   ]
  },
  {
   "cell_type": "markdown",
   "id": "d2ced9e5-eaa1-48b3-ae96-805fe2682119",
   "metadata": {
    "tags": []
   },
   "source": [
    "##### Si hay poroblemas de memoria, se puede guardar la información del Notebook, reiniciarlo y volver a cargarlo. Esto ayuda a liberar memoria _leakeada_ por Jupyter"
   ]
  },
  {
   "cell_type": "code",
   "execution_count": 10,
   "id": "c5f59834-500d-42be-be89-93fe63b556e0",
   "metadata": {},
   "outputs": [],
   "source": [
    "import dill\n",
    "dill.dump_session(\"dump_regression.db\")"
   ]
  },
  {
   "cell_type": "markdown",
   "id": "e43dcb6f-dd29-4705-8880-637fe7d72ade",
   "metadata": {},
   "source": [
    "> Reiniciar el kernel"
   ]
  },
  {
   "cell_type": "code",
   "execution_count": 1,
   "id": "e996ff3d-a727-416c-a38a-da705709a0e7",
   "metadata": {},
   "outputs": [],
   "source": [
    "import dill\n",
    "dill.load_session(\"dump_regression.db\")"
   ]
  },
  {
   "cell_type": "markdown",
   "id": "6fd5d66d-d1c8-423c-b0cf-f40d9152f583",
   "metadata": {},
   "source": [
    "##### Entrenamiento del modelo"
   ]
  },
  {
   "cell_type": "code",
   "execution_count": 2,
   "id": "3a3163e4-d437-4583-8d99-137ded38361a",
   "metadata": {
    "colab": {
     "base_uri": "https://localhost:8080/"
    },
    "id": "3a3163e4-d437-4583-8d99-137ded38361a",
    "outputId": "83193e49-63ac-4ffb-995a-81f903779751"
   },
   "outputs": [
    {
     "name": "stdout",
     "output_type": "stream",
     "text": [
      "Fitting 3 folds for each of 20 candidates, totalling 60 fits\n",
      "[CV 1/3; 1/20] START C=0.517022004702574, fit_intercept=True, tol=0.0001898836039007988\n",
      "[CV 1/3; 1/20] END C=0.517022004702574, fit_intercept=True, tol=0.0001898836039007988;, score=0.630 total time=  36.3s\n",
      "[CV 2/3; 1/20] START C=0.517022004702574, fit_intercept=True, tol=0.0001898836039007988\n"
     ]
    },
    {
     "name": "stderr",
     "output_type": "stream",
     "text": [
      "/home/manu/Documentos/Facultad/Datos/2021B/venv8/lib/python3.8/site-packages/sklearn/linear_model/_logistic.py:814: ConvergenceWarning: lbfgs failed to converge (status=1):\n",
      "STOP: TOTAL NO. of ITERATIONS REACHED LIMIT.\n",
      "\n",
      "Increase the number of iterations (max_iter) or scale the data as shown in:\n",
      "    https://scikit-learn.org/stable/modules/preprocessing.html\n",
      "Please also refer to the documentation for alternative solver options:\n",
      "    https://scikit-learn.org/stable/modules/linear_model.html#logistic-regression\n",
      "  n_iter_i = _check_optimize_result(\n"
     ]
    },
    {
     "name": "stdout",
     "output_type": "stream",
     "text": [
      "[CV 2/3; 1/20] END C=0.517022004702574, fit_intercept=True, tol=0.0001898836039007988;, score=0.690 total time= 1.1min\n",
      "[CV 3/3; 1/20] START C=0.517022004702574, fit_intercept=True, tol=0.0001898836039007988\n"
     ]
    },
    {
     "name": "stderr",
     "output_type": "stream",
     "text": [
      "/home/manu/Documentos/Facultad/Datos/2021B/venv8/lib/python3.8/site-packages/sklearn/linear_model/_logistic.py:814: ConvergenceWarning: lbfgs failed to converge (status=1):\n",
      "STOP: TOTAL NO. of ITERATIONS REACHED LIMIT.\n",
      "\n",
      "Increase the number of iterations (max_iter) or scale the data as shown in:\n",
      "    https://scikit-learn.org/stable/modules/preprocessing.html\n",
      "Please also refer to the documentation for alternative solver options:\n",
      "    https://scikit-learn.org/stable/modules/linear_model.html#logistic-regression\n",
      "  n_iter_i = _check_optimize_result(\n"
     ]
    },
    {
     "name": "stdout",
     "output_type": "stream",
     "text": [
      "[CV 3/3; 1/20] END C=0.517022004702574, fit_intercept=True, tol=0.0001898836039007988;, score=0.666 total time= 1.1min\n",
      "[CV 1/3; 2/20] START C=0.22812444792935674, fit_intercept=False, tol=7.201338362256696e-05\n",
      "[CV 1/3; 2/20] END C=0.22812444792935674, fit_intercept=False, tol=7.201338362256696e-05;, score=0.618 total time=  30.4s\n",
      "[CV 2/3; 2/20] START C=0.22812444792935674, fit_intercept=False, tol=7.201338362256696e-05\n"
     ]
    },
    {
     "name": "stderr",
     "output_type": "stream",
     "text": [
      "/home/manu/Documentos/Facultad/Datos/2021B/venv8/lib/python3.8/site-packages/sklearn/linear_model/_logistic.py:814: ConvergenceWarning: lbfgs failed to converge (status=1):\n",
      "STOP: TOTAL NO. of ITERATIONS REACHED LIMIT.\n",
      "\n",
      "Increase the number of iterations (max_iter) or scale the data as shown in:\n",
      "    https://scikit-learn.org/stable/modules/preprocessing.html\n",
      "Please also refer to the documentation for alternative solver options:\n",
      "    https://scikit-learn.org/stable/modules/linear_model.html#logistic-regression\n",
      "  n_iter_i = _check_optimize_result(\n"
     ]
    },
    {
     "name": "stdout",
     "output_type": "stream",
     "text": [
      "[CV 2/3; 2/20] END C=0.22812444792935674, fit_intercept=False, tol=7.201338362256696e-05;, score=0.685 total time= 1.1min\n",
      "[CV 3/3; 2/20] START C=0.22812444792935674, fit_intercept=False, tol=7.201338362256696e-05\n"
     ]
    },
    {
     "name": "stderr",
     "output_type": "stream",
     "text": [
      "/home/manu/Documentos/Facultad/Datos/2021B/venv8/lib/python3.8/site-packages/sklearn/linear_model/_logistic.py:814: ConvergenceWarning: lbfgs failed to converge (status=1):\n",
      "STOP: TOTAL NO. of ITERATIONS REACHED LIMIT.\n",
      "\n",
      "Increase the number of iterations (max_iter) or scale the data as shown in:\n",
      "    https://scikit-learn.org/stable/modules/preprocessing.html\n",
      "Please also refer to the documentation for alternative solver options:\n",
      "    https://scikit-learn.org/stable/modules/linear_model.html#logistic-regression\n",
      "  n_iter_i = _check_optimize_result(\n"
     ]
    },
    {
     "name": "stdout",
     "output_type": "stream",
     "text": [
      "[CV 3/3; 2/20] END C=0.22812444792935674, fit_intercept=False, tol=7.201338362256696e-05;, score=0.677 total time= 1.1min\n",
      "[CV 1/3; 3/20] START C=0.1923385947687978, fit_intercept=True, tol=0.00010818661117430111\n"
     ]
    },
    {
     "name": "stderr",
     "output_type": "stream",
     "text": [
      "/home/manu/Documentos/Facultad/Datos/2021B/venv8/lib/python3.8/site-packages/sklearn/linear_model/_logistic.py:814: ConvergenceWarning: lbfgs failed to converge (status=1):\n",
      "STOP: TOTAL NO. of ITERATIONS REACHED LIMIT.\n",
      "\n",
      "Increase the number of iterations (max_iter) or scale the data as shown in:\n",
      "    https://scikit-learn.org/stable/modules/preprocessing.html\n",
      "Please also refer to the documentation for alternative solver options:\n",
      "    https://scikit-learn.org/stable/modules/linear_model.html#logistic-regression\n",
      "  n_iter_i = _check_optimize_result(\n"
     ]
    },
    {
     "name": "stdout",
     "output_type": "stream",
     "text": [
      "[CV 1/3; 3/20] END C=0.1923385947687978, fit_intercept=True, tol=0.00010818661117430111;, score=0.643 total time= 1.1min\n",
      "[CV 2/3; 3/20] START C=0.1923385947687978, fit_intercept=True, tol=0.00010818661117430111\n",
      "[CV 2/3; 3/20] END C=0.1923385947687978, fit_intercept=True, tol=0.00010818661117430111;, score=0.691 total time=  33.8s\n",
      "[CV 3/3; 3/20] START C=0.1923385947687978, fit_intercept=True, tol=0.00010818661117430111\n"
     ]
    },
    {
     "name": "stderr",
     "output_type": "stream",
     "text": [
      "/home/manu/Documentos/Facultad/Datos/2021B/venv8/lib/python3.8/site-packages/sklearn/linear_model/_logistic.py:814: ConvergenceWarning: lbfgs failed to converge (status=1):\n",
      "STOP: TOTAL NO. of ITERATIONS REACHED LIMIT.\n",
      "\n",
      "Increase the number of iterations (max_iter) or scale the data as shown in:\n",
      "    https://scikit-learn.org/stable/modules/preprocessing.html\n",
      "Please also refer to the documentation for alternative solver options:\n",
      "    https://scikit-learn.org/stable/modules/linear_model.html#logistic-regression\n",
      "  n_iter_i = _check_optimize_result(\n"
     ]
    },
    {
     "name": "stdout",
     "output_type": "stream",
     "text": [
      "[CV 3/3; 3/20] END C=0.1923385947687978, fit_intercept=True, tol=0.00010818661117430111;, score=0.678 total time= 1.0min\n",
      "[CV 1/3; 4/20] START C=0.76974603680348, fit_intercept=False, tol=0.00013082251010050353\n",
      "[CV 1/3; 4/20] END C=0.76974603680348, fit_intercept=False, tol=0.00013082251010050353;, score=0.618 total time=  30.8s\n",
      "[CV 2/3; 4/20] START C=0.76974603680348, fit_intercept=False, tol=0.00013082251010050353\n"
     ]
    },
    {
     "name": "stderr",
     "output_type": "stream",
     "text": [
      "/home/manu/Documentos/Facultad/Datos/2021B/venv8/lib/python3.8/site-packages/sklearn/linear_model/_logistic.py:814: ConvergenceWarning: lbfgs failed to converge (status=1):\n",
      "STOP: TOTAL NO. of ITERATIONS REACHED LIMIT.\n",
      "\n",
      "Increase the number of iterations (max_iter) or scale the data as shown in:\n",
      "    https://scikit-learn.org/stable/modules/preprocessing.html\n",
      "Please also refer to the documentation for alternative solver options:\n",
      "    https://scikit-learn.org/stable/modules/linear_model.html#logistic-regression\n",
      "  n_iter_i = _check_optimize_result(\n"
     ]
    },
    {
     "name": "stdout",
     "output_type": "stream",
     "text": [
      "[CV 2/3; 4/20] END C=0.76974603680348, fit_intercept=False, tol=0.00013082251010050353;, score=0.690 total time=  59.3s\n",
      "[CV 3/3; 4/20] START C=0.76974603680348, fit_intercept=False, tol=0.00013082251010050353\n"
     ]
    },
    {
     "name": "stderr",
     "output_type": "stream",
     "text": [
      "/home/manu/Documentos/Facultad/Datos/2021B/venv8/lib/python3.8/site-packages/sklearn/linear_model/_logistic.py:814: ConvergenceWarning: lbfgs failed to converge (status=1):\n",
      "STOP: TOTAL NO. of ITERATIONS REACHED LIMIT.\n",
      "\n",
      "Increase the number of iterations (max_iter) or scale the data as shown in:\n",
      "    https://scikit-learn.org/stable/modules/preprocessing.html\n",
      "Please also refer to the documentation for alternative solver options:\n",
      "    https://scikit-learn.org/stable/modules/linear_model.html#logistic-regression\n",
      "  n_iter_i = _check_optimize_result(\n"
     ]
    },
    {
     "name": "stdout",
     "output_type": "stream",
     "text": [
      "[CV 3/3; 4/20] END C=0.76974603680348, fit_intercept=False, tol=0.00013082251010050353;, score=0.690 total time=  57.9s\n",
      "[CV 1/3; 5/20] START C=0.5191945144032948, fit_intercept=True, tol=0.0001286822239359307\n"
     ]
    },
    {
     "name": "stderr",
     "output_type": "stream",
     "text": [
      "/home/manu/Documentos/Facultad/Datos/2021B/venv8/lib/python3.8/site-packages/sklearn/linear_model/_logistic.py:814: ConvergenceWarning: lbfgs failed to converge (status=1):\n",
      "STOP: TOTAL NO. of ITERATIONS REACHED LIMIT.\n",
      "\n",
      "Increase the number of iterations (max_iter) or scale the data as shown in:\n",
      "    https://scikit-learn.org/stable/modules/preprocessing.html\n",
      "Please also refer to the documentation for alternative solver options:\n",
      "    https://scikit-learn.org/stable/modules/linear_model.html#logistic-regression\n",
      "  n_iter_i = _check_optimize_result(\n"
     ]
    },
    {
     "name": "stdout",
     "output_type": "stream",
     "text": [
      "[CV 1/3; 5/20] END C=0.5191945144032948, fit_intercept=True, tol=0.0001286822239359307;, score=0.640 total time= 1.0min\n",
      "[CV 2/3; 5/20] START C=0.5191945144032948, fit_intercept=True, tol=0.0001286822239359307\n"
     ]
    },
    {
     "name": "stderr",
     "output_type": "stream",
     "text": [
      "/home/manu/Documentos/Facultad/Datos/2021B/venv8/lib/python3.8/site-packages/sklearn/linear_model/_logistic.py:814: ConvergenceWarning: lbfgs failed to converge (status=1):\n",
      "STOP: TOTAL NO. of ITERATIONS REACHED LIMIT.\n",
      "\n",
      "Increase the number of iterations (max_iter) or scale the data as shown in:\n",
      "    https://scikit-learn.org/stable/modules/preprocessing.html\n",
      "Please also refer to the documentation for alternative solver options:\n",
      "    https://scikit-learn.org/stable/modules/linear_model.html#logistic-regression\n",
      "  n_iter_i = _check_optimize_result(\n"
     ]
    },
    {
     "name": "stdout",
     "output_type": "stream",
     "text": [
      "[CV 2/3; 5/20] END C=0.5191945144032948, fit_intercept=True, tol=0.0001286822239359307;, score=0.695 total time=  58.7s\n",
      "[CV 3/3; 5/20] START C=0.5191945144032948, fit_intercept=True, tol=0.0001286822239359307\n"
     ]
    },
    {
     "name": "stderr",
     "output_type": "stream",
     "text": [
      "/home/manu/Documentos/Facultad/Datos/2021B/venv8/lib/python3.8/site-packages/sklearn/linear_model/_logistic.py:814: ConvergenceWarning: lbfgs failed to converge (status=1):\n",
      "STOP: TOTAL NO. of ITERATIONS REACHED LIMIT.\n",
      "\n",
      "Increase the number of iterations (max_iter) or scale the data as shown in:\n",
      "    https://scikit-learn.org/stable/modules/preprocessing.html\n",
      "Please also refer to the documentation for alternative solver options:\n",
      "    https://scikit-learn.org/stable/modules/linear_model.html#logistic-regression\n",
      "  n_iter_i = _check_optimize_result(\n"
     ]
    },
    {
     "name": "stdout",
     "output_type": "stream",
     "text": [
      "[CV 3/3; 5/20] END C=0.5191945144032948, fit_intercept=True, tol=0.0001286822239359307;, score=0.677 total time=  57.0s\n",
      "[CV 1/3; 6/20] START C=0.5434528937795566, fit_intercept=True, tol=5.410813897968893e-05\n",
      "[CV 1/3; 6/20] END C=0.5434528937795566, fit_intercept=True, tol=5.410813897968893e-05;, score=0.630 total time=  42.6s\n",
      "[CV 2/3; 6/20] START C=0.5434528937795566, fit_intercept=True, tol=5.410813897968893e-05\n"
     ]
    },
    {
     "name": "stderr",
     "output_type": "stream",
     "text": [
      "/home/manu/Documentos/Facultad/Datos/2021B/venv8/lib/python3.8/site-packages/sklearn/linear_model/_logistic.py:814: ConvergenceWarning: lbfgs failed to converge (status=1):\n",
      "STOP: TOTAL NO. of ITERATIONS REACHED LIMIT.\n",
      "\n",
      "Increase the number of iterations (max_iter) or scale the data as shown in:\n",
      "    https://scikit-learn.org/stable/modules/preprocessing.html\n",
      "Please also refer to the documentation for alternative solver options:\n",
      "    https://scikit-learn.org/stable/modules/linear_model.html#logistic-regression\n",
      "  n_iter_i = _check_optimize_result(\n"
     ]
    },
    {
     "name": "stdout",
     "output_type": "stream",
     "text": [
      "[CV 2/3; 6/20] END C=0.5434528937795566, fit_intercept=True, tol=5.410813897968893e-05;, score=0.690 total time=  58.9s\n",
      "[CV 3/3; 6/20] START C=0.5434528937795566, fit_intercept=True, tol=5.410813897968893e-05\n"
     ]
    },
    {
     "name": "stderr",
     "output_type": "stream",
     "text": [
      "/home/manu/Documentos/Facultad/Datos/2021B/venv8/lib/python3.8/site-packages/sklearn/linear_model/_logistic.py:814: ConvergenceWarning: lbfgs failed to converge (status=1):\n",
      "STOP: TOTAL NO. of ITERATIONS REACHED LIMIT.\n",
      "\n",
      "Increase the number of iterations (max_iter) or scale the data as shown in:\n",
      "    https://scikit-learn.org/stable/modules/preprocessing.html\n",
      "Please also refer to the documentation for alternative solver options:\n",
      "    https://scikit-learn.org/stable/modules/linear_model.html#logistic-regression\n",
      "  n_iter_i = _check_optimize_result(\n"
     ]
    },
    {
     "name": "stdout",
     "output_type": "stream",
     "text": [
      "[CV 3/3; 6/20] END C=0.5434528937795566, fit_intercept=True, tol=5.410813897968893e-05;, score=0.678 total time=  56.5s\n",
      "[CV 1/3; 7/20] START C=0.7704675101784022, fit_intercept=False, tol=0.00011858072119804824\n"
     ]
    },
    {
     "name": "stderr",
     "output_type": "stream",
     "text": [
      "/home/manu/Documentos/Facultad/Datos/2021B/venv8/lib/python3.8/site-packages/sklearn/linear_model/_logistic.py:814: ConvergenceWarning: lbfgs failed to converge (status=1):\n",
      "STOP: TOTAL NO. of ITERATIONS REACHED LIMIT.\n",
      "\n",
      "Increase the number of iterations (max_iter) or scale the data as shown in:\n",
      "    https://scikit-learn.org/stable/modules/preprocessing.html\n",
      "Please also refer to the documentation for alternative solver options:\n",
      "    https://scikit-learn.org/stable/modules/linear_model.html#logistic-regression\n",
      "  n_iter_i = _check_optimize_result(\n"
     ]
    },
    {
     "name": "stdout",
     "output_type": "stream",
     "text": [
      "[CV 1/3; 7/20] END C=0.7704675101784022, fit_intercept=False, tol=0.00011858072119804824;, score=0.633 total time=  59.0s\n",
      "[CV 2/3; 7/20] START C=0.7704675101784022, fit_intercept=False, tol=0.00011858072119804824\n"
     ]
    },
    {
     "name": "stderr",
     "output_type": "stream",
     "text": [
      "/home/manu/Documentos/Facultad/Datos/2021B/venv8/lib/python3.8/site-packages/sklearn/linear_model/_logistic.py:814: ConvergenceWarning: lbfgs failed to converge (status=1):\n",
      "STOP: TOTAL NO. of ITERATIONS REACHED LIMIT.\n",
      "\n",
      "Increase the number of iterations (max_iter) or scale the data as shown in:\n",
      "    https://scikit-learn.org/stable/modules/preprocessing.html\n",
      "Please also refer to the documentation for alternative solver options:\n",
      "    https://scikit-learn.org/stable/modules/linear_model.html#logistic-regression\n",
      "  n_iter_i = _check_optimize_result(\n"
     ]
    },
    {
     "name": "stdout",
     "output_type": "stream",
     "text": [
      "[CV 2/3; 7/20] END C=0.7704675101784022, fit_intercept=False, tol=0.00011858072119804824;, score=0.690 total time=  57.3s\n",
      "[CV 3/3; 7/20] START C=0.7704675101784022, fit_intercept=False, tol=0.00011858072119804824\n"
     ]
    },
    {
     "name": "stderr",
     "output_type": "stream",
     "text": [
      "/home/manu/Documentos/Facultad/Datos/2021B/venv8/lib/python3.8/site-packages/sklearn/linear_model/_logistic.py:814: ConvergenceWarning: lbfgs failed to converge (status=1):\n",
      "STOP: TOTAL NO. of ITERATIONS REACHED LIMIT.\n",
      "\n",
      "Increase the number of iterations (max_iter) or scale the data as shown in:\n",
      "    https://scikit-learn.org/stable/modules/preprocessing.html\n",
      "Please also refer to the documentation for alternative solver options:\n",
      "    https://scikit-learn.org/stable/modules/linear_model.html#logistic-regression\n",
      "  n_iter_i = _check_optimize_result(\n"
     ]
    },
    {
     "name": "stdout",
     "output_type": "stream",
     "text": [
      "[CV 3/3; 7/20] END C=0.7704675101784022, fit_intercept=False, tol=0.00011858072119804824;, score=0.676 total time=  56.7s\n",
      "[CV 1/3; 8/20] START C=0.5306985671847084, fit_intercept=True, tol=7.971522336273183e-05\n"
     ]
    },
    {
     "name": "stderr",
     "output_type": "stream",
     "text": [
      "/home/manu/Documentos/Facultad/Datos/2021B/venv8/lib/python3.8/site-packages/sklearn/linear_model/_logistic.py:814: ConvergenceWarning: lbfgs failed to converge (status=1):\n",
      "STOP: TOTAL NO. of ITERATIONS REACHED LIMIT.\n",
      "\n",
      "Increase the number of iterations (max_iter) or scale the data as shown in:\n",
      "    https://scikit-learn.org/stable/modules/preprocessing.html\n",
      "Please also refer to the documentation for alternative solver options:\n",
      "    https://scikit-learn.org/stable/modules/linear_model.html#logistic-regression\n",
      "  n_iter_i = _check_optimize_result(\n"
     ]
    },
    {
     "name": "stdout",
     "output_type": "stream",
     "text": [
      "[CV 1/3; 8/20] END C=0.5306985671847084, fit_intercept=True, tol=7.971522336273183e-05;, score=0.637 total time=  56.5s\n",
      "[CV 2/3; 8/20] START C=0.5306985671847084, fit_intercept=True, tol=7.971522336273183e-05\n"
     ]
    },
    {
     "name": "stderr",
     "output_type": "stream",
     "text": [
      "/home/manu/Documentos/Facultad/Datos/2021B/venv8/lib/python3.8/site-packages/sklearn/linear_model/_logistic.py:814: ConvergenceWarning: lbfgs failed to converge (status=1):\n",
      "STOP: TOTAL NO. of ITERATIONS REACHED LIMIT.\n",
      "\n",
      "Increase the number of iterations (max_iter) or scale the data as shown in:\n",
      "    https://scikit-learn.org/stable/modules/preprocessing.html\n",
      "Please also refer to the documentation for alternative solver options:\n",
      "    https://scikit-learn.org/stable/modules/linear_model.html#logistic-regression\n",
      "  n_iter_i = _check_optimize_result(\n"
     ]
    },
    {
     "name": "stdout",
     "output_type": "stream",
     "text": [
      "[CV 2/3; 8/20] END C=0.5306985671847084, fit_intercept=True, tol=7.971522336273183e-05;, score=0.699 total time=  59.3s\n",
      "[CV 3/3; 8/20] START C=0.5306985671847084, fit_intercept=True, tol=7.971522336273183e-05\n"
     ]
    },
    {
     "name": "stderr",
     "output_type": "stream",
     "text": [
      "/home/manu/Documentos/Facultad/Datos/2021B/venv8/lib/python3.8/site-packages/sklearn/linear_model/_logistic.py:814: ConvergenceWarning: lbfgs failed to converge (status=1):\n",
      "STOP: TOTAL NO. of ITERATIONS REACHED LIMIT.\n",
      "\n",
      "Increase the number of iterations (max_iter) or scale the data as shown in:\n",
      "    https://scikit-learn.org/stable/modules/preprocessing.html\n",
      "Please also refer to the documentation for alternative solver options:\n",
      "    https://scikit-learn.org/stable/modules/linear_model.html#logistic-regression\n",
      "  n_iter_i = _check_optimize_result(\n"
     ]
    },
    {
     "name": "stdout",
     "output_type": "stream",
     "text": [
      "[CV 3/3; 8/20] END C=0.5306985671847084, fit_intercept=True, tol=7.971522336273183e-05;, score=0.677 total time=  56.5s\n",
      "[CV 1/3; 9/20] START C=0.9007445686755366, fit_intercept=False, tol=0.00017041362559060472\n"
     ]
    },
    {
     "name": "stderr",
     "output_type": "stream",
     "text": [
      "/home/manu/Documentos/Facultad/Datos/2021B/venv8/lib/python3.8/site-packages/sklearn/linear_model/_logistic.py:814: ConvergenceWarning: lbfgs failed to converge (status=1):\n",
      "STOP: TOTAL NO. of ITERATIONS REACHED LIMIT.\n",
      "\n",
      "Increase the number of iterations (max_iter) or scale the data as shown in:\n",
      "    https://scikit-learn.org/stable/modules/preprocessing.html\n",
      "Please also refer to the documentation for alternative solver options:\n",
      "    https://scikit-learn.org/stable/modules/linear_model.html#logistic-regression\n",
      "  n_iter_i = _check_optimize_result(\n"
     ]
    },
    {
     "name": "stdout",
     "output_type": "stream",
     "text": [
      "[CV 1/3; 9/20] END C=0.9007445686755366, fit_intercept=False, tol=0.00017041362559060472;, score=0.637 total time= 1.0min\n",
      "[CV 2/3; 9/20] START C=0.9007445686755366, fit_intercept=False, tol=0.00017041362559060472\n"
     ]
    },
    {
     "name": "stderr",
     "output_type": "stream",
     "text": [
      "/home/manu/Documentos/Facultad/Datos/2021B/venv8/lib/python3.8/site-packages/sklearn/linear_model/_logistic.py:814: ConvergenceWarning: lbfgs failed to converge (status=1):\n",
      "STOP: TOTAL NO. of ITERATIONS REACHED LIMIT.\n",
      "\n",
      "Increase the number of iterations (max_iter) or scale the data as shown in:\n",
      "    https://scikit-learn.org/stable/modules/preprocessing.html\n",
      "Please also refer to the documentation for alternative solver options:\n",
      "    https://scikit-learn.org/stable/modules/linear_model.html#logistic-regression\n",
      "  n_iter_i = _check_optimize_result(\n"
     ]
    },
    {
     "name": "stdout",
     "output_type": "stream",
     "text": [
      "[CV 2/3; 9/20] END C=0.9007445686755366, fit_intercept=False, tol=0.00017041362559060472;, score=0.690 total time=  58.2s\n",
      "[CV 3/3; 9/20] START C=0.9007445686755366, fit_intercept=False, tol=0.00017041362559060472\n"
     ]
    },
    {
     "name": "stderr",
     "output_type": "stream",
     "text": [
      "/home/manu/Documentos/Facultad/Datos/2021B/venv8/lib/python3.8/site-packages/sklearn/linear_model/_logistic.py:814: ConvergenceWarning: lbfgs failed to converge (status=1):\n",
      "STOP: TOTAL NO. of ITERATIONS REACHED LIMIT.\n",
      "\n",
      "Increase the number of iterations (max_iter) or scale the data as shown in:\n",
      "    https://scikit-learn.org/stable/modules/preprocessing.html\n",
      "Please also refer to the documentation for alternative solver options:\n",
      "    https://scikit-learn.org/stable/modules/linear_model.html#logistic-regression\n",
      "  n_iter_i = _check_optimize_result(\n"
     ]
    },
    {
     "name": "stdout",
     "output_type": "stream",
     "text": [
      "[CV 3/3; 9/20] END C=0.9007445686755366, fit_intercept=False, tol=0.00017041362559060472;, score=0.682 total time=  58.0s\n",
      "[CV 1/3; 10/20] START C=0.19280080864073793, fit_intercept=False, tol=0.00018145837284440572\n",
      "[CV 1/3; 10/20] END C=0.19280080864073793, fit_intercept=False, tol=0.00018145837284440572;, score=0.618 total time=  27.4s\n",
      "[CV 2/3; 10/20] START C=0.19280080864073793, fit_intercept=False, tol=0.00018145837284440572\n"
     ]
    },
    {
     "name": "stderr",
     "output_type": "stream",
     "text": [
      "/home/manu/Documentos/Facultad/Datos/2021B/venv8/lib/python3.8/site-packages/sklearn/linear_model/_logistic.py:814: ConvergenceWarning: lbfgs failed to converge (status=1):\n",
      "STOP: TOTAL NO. of ITERATIONS REACHED LIMIT.\n",
      "\n",
      "Increase the number of iterations (max_iter) or scale the data as shown in:\n",
      "    https://scikit-learn.org/stable/modules/preprocessing.html\n",
      "Please also refer to the documentation for alternative solver options:\n",
      "    https://scikit-learn.org/stable/modules/linear_model.html#logistic-regression\n",
      "  n_iter_i = _check_optimize_result(\n"
     ]
    },
    {
     "name": "stdout",
     "output_type": "stream",
     "text": [
      "[CV 2/3; 10/20] END C=0.19280080864073793, fit_intercept=False, tol=0.00018145837284440572;, score=0.701 total time=  57.4s\n",
      "[CV 3/3; 10/20] START C=0.19280080864073793, fit_intercept=False, tol=0.00018145837284440572\n"
     ]
    },
    {
     "name": "stderr",
     "output_type": "stream",
     "text": [
      "/home/manu/Documentos/Facultad/Datos/2021B/venv8/lib/python3.8/site-packages/sklearn/linear_model/_logistic.py:814: ConvergenceWarning: lbfgs failed to converge (status=1):\n",
      "STOP: TOTAL NO. of ITERATIONS REACHED LIMIT.\n",
      "\n",
      "Increase the number of iterations (max_iter) or scale the data as shown in:\n",
      "    https://scikit-learn.org/stable/modules/preprocessing.html\n",
      "Please also refer to the documentation for alternative solver options:\n",
      "    https://scikit-learn.org/stable/modules/linear_model.html#logistic-regression\n",
      "  n_iter_i = _check_optimize_result(\n"
     ]
    },
    {
     "name": "stdout",
     "output_type": "stream",
     "text": [
      "[CV 3/3; 10/20] END C=0.19280080864073793, fit_intercept=False, tol=0.00018145837284440572;, score=0.675 total time=  55.2s\n",
      "[CV 1/3; 11/20] START C=0.9946066635038473, fit_intercept=True, tol=0.00017444050390912752\n"
     ]
    },
    {
     "name": "stderr",
     "output_type": "stream",
     "text": [
      "/home/manu/Documentos/Facultad/Datos/2021B/venv8/lib/python3.8/site-packages/sklearn/linear_model/_logistic.py:814: ConvergenceWarning: lbfgs failed to converge (status=1):\n",
      "STOP: TOTAL NO. of ITERATIONS REACHED LIMIT.\n",
      "\n",
      "Increase the number of iterations (max_iter) or scale the data as shown in:\n",
      "    https://scikit-learn.org/stable/modules/preprocessing.html\n",
      "Please also refer to the documentation for alternative solver options:\n",
      "    https://scikit-learn.org/stable/modules/linear_model.html#logistic-regression\n",
      "  n_iter_i = _check_optimize_result(\n"
     ]
    },
    {
     "name": "stdout",
     "output_type": "stream",
     "text": [
      "[CV 1/3; 11/20] END C=0.9946066635038473, fit_intercept=True, tol=0.00017444050390912752;, score=0.640 total time=  57.6s\n",
      "[CV 2/3; 11/20] START C=0.9946066635038473, fit_intercept=True, tol=0.00017444050390912752\n"
     ]
    },
    {
     "name": "stderr",
     "output_type": "stream",
     "text": [
      "/home/manu/Documentos/Facultad/Datos/2021B/venv8/lib/python3.8/site-packages/sklearn/linear_model/_logistic.py:814: ConvergenceWarning: lbfgs failed to converge (status=1):\n",
      "STOP: TOTAL NO. of ITERATIONS REACHED LIMIT.\n",
      "\n",
      "Increase the number of iterations (max_iter) or scale the data as shown in:\n",
      "    https://scikit-learn.org/stable/modules/preprocessing.html\n",
      "Please also refer to the documentation for alternative solver options:\n",
      "    https://scikit-learn.org/stable/modules/linear_model.html#logistic-regression\n",
      "  n_iter_i = _check_optimize_result(\n"
     ]
    },
    {
     "name": "stdout",
     "output_type": "stream",
     "text": [
      "[CV 2/3; 11/20] END C=0.9946066635038473, fit_intercept=True, tol=0.00017444050390912752;, score=0.689 total time=  56.7s\n",
      "[CV 3/3; 11/20] START C=0.9946066635038473, fit_intercept=True, tol=0.00017444050390912752\n"
     ]
    },
    {
     "name": "stderr",
     "output_type": "stream",
     "text": [
      "/home/manu/Documentos/Facultad/Datos/2021B/venv8/lib/python3.8/site-packages/sklearn/linear_model/_logistic.py:814: ConvergenceWarning: lbfgs failed to converge (status=1):\n",
      "STOP: TOTAL NO. of ITERATIONS REACHED LIMIT.\n",
      "\n",
      "Increase the number of iterations (max_iter) or scale the data as shown in:\n",
      "    https://scikit-learn.org/stable/modules/preprocessing.html\n",
      "Please also refer to the documentation for alternative solver options:\n",
      "    https://scikit-learn.org/stable/modules/linear_model.html#logistic-regression\n",
      "  n_iter_i = _check_optimize_result(\n"
     ]
    },
    {
     "name": "stdout",
     "output_type": "stream",
     "text": [
      "[CV 3/3; 11/20] END C=0.9946066635038473, fit_intercept=True, tol=0.00017444050390912752;, score=0.676 total time=  56.9s\n",
      "[CV 1/3; 12/20] START C=0.37304997421674735, fit_intercept=True, tol=0.00018172137551441194\n",
      "[CV 1/3; 12/20] END C=0.37304997421674735, fit_intercept=True, tol=0.00018172137551441194;, score=0.618 total time=  26.1s\n",
      "[CV 2/3; 12/20] START C=0.37304997421674735, fit_intercept=True, tol=0.00018172137551441194\n",
      "[CV 2/3; 12/20] END C=0.37304997421674735, fit_intercept=True, tol=0.00018172137551441194;, score=0.690 total time=  34.5s\n",
      "[CV 3/3; 12/20] START C=0.37304997421674735, fit_intercept=True, tol=0.00018172137551441194\n"
     ]
    },
    {
     "name": "stderr",
     "output_type": "stream",
     "text": [
      "/home/manu/Documentos/Facultad/Datos/2021B/venv8/lib/python3.8/site-packages/sklearn/linear_model/_logistic.py:814: ConvergenceWarning: lbfgs failed to converge (status=1):\n",
      "STOP: TOTAL NO. of ITERATIONS REACHED LIMIT.\n",
      "\n",
      "Increase the number of iterations (max_iter) or scale the data as shown in:\n",
      "    https://scikit-learn.org/stable/modules/preprocessing.html\n",
      "Please also refer to the documentation for alternative solver options:\n",
      "    https://scikit-learn.org/stable/modules/linear_model.html#logistic-regression\n",
      "  n_iter_i = _check_optimize_result(\n"
     ]
    },
    {
     "name": "stdout",
     "output_type": "stream",
     "text": [
      "[CV 3/3; 12/20] END C=0.37304997421674735, fit_intercept=True, tol=0.00018172137551441194;, score=0.677 total time=  57.5s\n",
      "[CV 1/3; 13/20] START C=0.1983468338330501, fit_intercept=False, tol=0.00015074811461332014\n",
      "[CV 1/3; 13/20] END C=0.1983468338330501, fit_intercept=False, tol=0.00015074811461332014;, score=0.630 total time=  41.7s\n",
      "[CV 2/3; 13/20] START C=0.1983468338330501, fit_intercept=False, tol=0.00015074811461332014\n"
     ]
    },
    {
     "name": "stderr",
     "output_type": "stream",
     "text": [
      "/home/manu/Documentos/Facultad/Datos/2021B/venv8/lib/python3.8/site-packages/sklearn/linear_model/_logistic.py:814: ConvergenceWarning: lbfgs failed to converge (status=1):\n",
      "STOP: TOTAL NO. of ITERATIONS REACHED LIMIT.\n",
      "\n",
      "Increase the number of iterations (max_iter) or scale the data as shown in:\n",
      "    https://scikit-learn.org/stable/modules/preprocessing.html\n",
      "Please also refer to the documentation for alternative solver options:\n",
      "    https://scikit-learn.org/stable/modules/linear_model.html#logistic-regression\n",
      "  n_iter_i = _check_optimize_result(\n"
     ]
    },
    {
     "name": "stdout",
     "output_type": "stream",
     "text": [
      "[CV 2/3; 13/20] END C=0.1983468338330501, fit_intercept=False, tol=0.00015074811461332014;, score=0.696 total time=  58.3s\n",
      "[CV 3/3; 13/20] START C=0.1983468338330501, fit_intercept=False, tol=0.00015074811461332014\n"
     ]
    },
    {
     "name": "stderr",
     "output_type": "stream",
     "text": [
      "/home/manu/Documentos/Facultad/Datos/2021B/venv8/lib/python3.8/site-packages/sklearn/linear_model/_logistic.py:814: ConvergenceWarning: lbfgs failed to converge (status=1):\n",
      "STOP: TOTAL NO. of ITERATIONS REACHED LIMIT.\n",
      "\n",
      "Increase the number of iterations (max_iter) or scale the data as shown in:\n",
      "    https://scikit-learn.org/stable/modules/preprocessing.html\n",
      "Please also refer to the documentation for alternative solver options:\n",
      "    https://scikit-learn.org/stable/modules/linear_model.html#logistic-regression\n",
      "  n_iter_i = _check_optimize_result(\n"
     ]
    },
    {
     "name": "stdout",
     "output_type": "stream",
     "text": [
      "[CV 3/3; 13/20] END C=0.1983468338330501, fit_intercept=False, tol=0.00015074811461332014;, score=0.674 total time=  57.6s\n",
      "[CV 1/3; 14/20] START C=0.511787878969053, fit_intercept=False, tol=0.000153781567092571\n",
      "[CV 1/3; 14/20] END C=0.511787878969053, fit_intercept=False, tol=0.000153781567092571;, score=0.618 total time=  28.0s\n",
      "[CV 2/3; 14/20] START C=0.511787878969053, fit_intercept=False, tol=0.000153781567092571\n"
     ]
    },
    {
     "name": "stderr",
     "output_type": "stream",
     "text": [
      "/home/manu/Documentos/Facultad/Datos/2021B/venv8/lib/python3.8/site-packages/sklearn/linear_model/_logistic.py:814: ConvergenceWarning: lbfgs failed to converge (status=1):\n",
      "STOP: TOTAL NO. of ITERATIONS REACHED LIMIT.\n",
      "\n",
      "Increase the number of iterations (max_iter) or scale the data as shown in:\n",
      "    https://scikit-learn.org/stable/modules/preprocessing.html\n",
      "Please also refer to the documentation for alternative solver options:\n",
      "    https://scikit-learn.org/stable/modules/linear_model.html#logistic-regression\n",
      "  n_iter_i = _check_optimize_result(\n"
     ]
    },
    {
     "name": "stdout",
     "output_type": "stream",
     "text": [
      "[CV 2/3; 14/20] END C=0.511787878969053, fit_intercept=False, tol=0.000153781567092571;, score=0.696 total time=  58.5s\n",
      "[CV 3/3; 14/20] START C=0.511787878969053, fit_intercept=False, tol=0.000153781567092571\n"
     ]
    },
    {
     "name": "stderr",
     "output_type": "stream",
     "text": [
      "/home/manu/Documentos/Facultad/Datos/2021B/venv8/lib/python3.8/site-packages/sklearn/linear_model/_logistic.py:814: ConvergenceWarning: lbfgs failed to converge (status=1):\n",
      "STOP: TOTAL NO. of ITERATIONS REACHED LIMIT.\n",
      "\n",
      "Increase the number of iterations (max_iter) or scale the data as shown in:\n",
      "    https://scikit-learn.org/stable/modules/preprocessing.html\n",
      "Please also refer to the documentation for alternative solver options:\n",
      "    https://scikit-learn.org/stable/modules/linear_model.html#logistic-regression\n",
      "  n_iter_i = _check_optimize_result(\n"
     ]
    },
    {
     "name": "stdout",
     "output_type": "stream",
     "text": [
      "[CV 3/3; 14/20] END C=0.511787878969053, fit_intercept=False, tol=0.000153781567092571;, score=0.676 total time=  55.3s\n",
      "[CV 1/3; 15/20] START C=0.4155156310060629, fit_intercept=True, tol=0.00016749717090423292\n",
      "[CV 1/3; 15/20] END C=0.4155156310060629, fit_intercept=True, tol=0.00016749717090423292;, score=0.618 total time=  26.6s\n",
      "[CV 2/3; 15/20] START C=0.4155156310060629, fit_intercept=True, tol=0.00016749717090423292\n"
     ]
    },
    {
     "name": "stderr",
     "output_type": "stream",
     "text": [
      "/home/manu/Documentos/Facultad/Datos/2021B/venv8/lib/python3.8/site-packages/sklearn/linear_model/_logistic.py:814: ConvergenceWarning: lbfgs failed to converge (status=1):\n",
      "STOP: TOTAL NO. of ITERATIONS REACHED LIMIT.\n",
      "\n",
      "Increase the number of iterations (max_iter) or scale the data as shown in:\n",
      "    https://scikit-learn.org/stable/modules/preprocessing.html\n",
      "Please also refer to the documentation for alternative solver options:\n",
      "    https://scikit-learn.org/stable/modules/linear_model.html#logistic-regression\n",
      "  n_iter_i = _check_optimize_result(\n"
     ]
    },
    {
     "name": "stdout",
     "output_type": "stream",
     "text": [
      "[CV 2/3; 15/20] END C=0.4155156310060629, fit_intercept=True, tol=0.00016749717090423292;, score=0.691 total time=  57.2s\n",
      "[CV 3/3; 15/20] START C=0.4155156310060629, fit_intercept=True, tol=0.00016749717090423292\n"
     ]
    },
    {
     "name": "stderr",
     "output_type": "stream",
     "text": [
      "/home/manu/Documentos/Facultad/Datos/2021B/venv8/lib/python3.8/site-packages/sklearn/linear_model/_logistic.py:814: ConvergenceWarning: lbfgs failed to converge (status=1):\n",
      "STOP: TOTAL NO. of ITERATIONS REACHED LIMIT.\n",
      "\n",
      "Increase the number of iterations (max_iter) or scale the data as shown in:\n",
      "    https://scikit-learn.org/stable/modules/preprocessing.html\n",
      "Please also refer to the documentation for alternative solver options:\n",
      "    https://scikit-learn.org/stable/modules/linear_model.html#logistic-regression\n",
      "  n_iter_i = _check_optimize_result(\n"
     ]
    },
    {
     "name": "stdout",
     "output_type": "stream",
     "text": [
      "[CV 3/3; 15/20] END C=0.4155156310060629, fit_intercept=True, tol=0.00016749717090423292;, score=0.678 total time=  57.8s\n",
      "[CV 1/3; 16/20] START C=0.5125388415030261, fit_intercept=False, tol=0.00016252164724174512\n"
     ]
    },
    {
     "name": "stderr",
     "output_type": "stream",
     "text": [
      "/home/manu/Documentos/Facultad/Datos/2021B/venv8/lib/python3.8/site-packages/sklearn/linear_model/_logistic.py:814: ConvergenceWarning: lbfgs failed to converge (status=1):\n",
      "STOP: TOTAL NO. of ITERATIONS REACHED LIMIT.\n",
      "\n",
      "Increase the number of iterations (max_iter) or scale the data as shown in:\n",
      "    https://scikit-learn.org/stable/modules/preprocessing.html\n",
      "Please also refer to the documentation for alternative solver options:\n",
      "    https://scikit-learn.org/stable/modules/linear_model.html#logistic-regression\n",
      "  n_iter_i = _check_optimize_result(\n"
     ]
    },
    {
     "name": "stdout",
     "output_type": "stream",
     "text": [
      "[CV 1/3; 16/20] END C=0.5125388415030261, fit_intercept=False, tol=0.00016252164724174512;, score=0.641 total time=  58.3s\n",
      "[CV 2/3; 16/20] START C=0.5125388415030261, fit_intercept=False, tol=0.00016252164724174512\n"
     ]
    },
    {
     "name": "stderr",
     "output_type": "stream",
     "text": [
      "/home/manu/Documentos/Facultad/Datos/2021B/venv8/lib/python3.8/site-packages/sklearn/linear_model/_logistic.py:814: ConvergenceWarning: lbfgs failed to converge (status=1):\n",
      "STOP: TOTAL NO. of ITERATIONS REACHED LIMIT.\n",
      "\n",
      "Increase the number of iterations (max_iter) or scale the data as shown in:\n",
      "    https://scikit-learn.org/stable/modules/preprocessing.html\n",
      "Please also refer to the documentation for alternative solver options:\n",
      "    https://scikit-learn.org/stable/modules/linear_model.html#logistic-regression\n",
      "  n_iter_i = _check_optimize_result(\n"
     ]
    },
    {
     "name": "stdout",
     "output_type": "stream",
     "text": [
      "[CV 2/3; 16/20] END C=0.5125388415030261, fit_intercept=False, tol=0.00016252164724174512;, score=0.698 total time=  58.7s\n",
      "[CV 3/3; 16/20] START C=0.5125388415030261, fit_intercept=False, tol=0.00016252164724174512\n"
     ]
    },
    {
     "name": "stderr",
     "output_type": "stream",
     "text": [
      "/home/manu/Documentos/Facultad/Datos/2021B/venv8/lib/python3.8/site-packages/sklearn/linear_model/_logistic.py:814: ConvergenceWarning: lbfgs failed to converge (status=1):\n",
      "STOP: TOTAL NO. of ITERATIONS REACHED LIMIT.\n",
      "\n",
      "Increase the number of iterations (max_iter) or scale the data as shown in:\n",
      "    https://scikit-learn.org/stable/modules/preprocessing.html\n",
      "Please also refer to the documentation for alternative solver options:\n",
      "    https://scikit-learn.org/stable/modules/linear_model.html#logistic-regression\n",
      "  n_iter_i = _check_optimize_result(\n"
     ]
    },
    {
     "name": "stdout",
     "output_type": "stream",
     "text": [
      "[CV 3/3; 16/20] END C=0.5125388415030261, fit_intercept=False, tol=0.00016252164724174512;, score=0.677 total time=  58.9s\n",
      "[CV 1/3; 17/20] START C=1.0888610889064947, fit_intercept=True, tol=9.47742942129567e-05\n",
      "[CV 1/3; 17/20] END C=1.0888610889064947, fit_intercept=True, tol=9.47742942129567e-05;, score=0.630 total time=  39.4s\n",
      "[CV 2/3; 17/20] START C=1.0888610889064947, fit_intercept=True, tol=9.47742942129567e-05\n",
      "[CV 2/3; 17/20] END C=1.0888610889064947, fit_intercept=True, tol=9.47742942129567e-05;, score=0.690 total time=  37.4s\n",
      "[CV 3/3; 17/20] START C=1.0888610889064947, fit_intercept=True, tol=9.47742942129567e-05\n"
     ]
    },
    {
     "name": "stderr",
     "output_type": "stream",
     "text": [
      "/home/manu/Documentos/Facultad/Datos/2021B/venv8/lib/python3.8/site-packages/sklearn/linear_model/_logistic.py:814: ConvergenceWarning: lbfgs failed to converge (status=1):\n",
      "STOP: TOTAL NO. of ITERATIONS REACHED LIMIT.\n",
      "\n",
      "Increase the number of iterations (max_iter) or scale the data as shown in:\n",
      "    https://scikit-learn.org/stable/modules/preprocessing.html\n",
      "Please also refer to the documentation for alternative solver options:\n",
      "    https://scikit-learn.org/stable/modules/linear_model.html#logistic-regression\n",
      "  n_iter_i = _check_optimize_result(\n"
     ]
    },
    {
     "name": "stdout",
     "output_type": "stream",
     "text": [
      "[CV 3/3; 17/20] END C=1.0888610889064947, fit_intercept=True, tol=9.47742942129567e-05;, score=0.674 total time=  55.8s\n",
      "[CV 1/3; 18/20] START C=0.546134506086106, fit_intercept=False, tol=6.54839009866463e-05\n",
      "[CV 1/3; 18/20] END C=0.546134506086106, fit_intercept=False, tol=6.54839009866463e-05;, score=0.618 total time=  27.4s\n",
      "[CV 2/3; 18/20] START C=0.546134506086106, fit_intercept=False, tol=6.54839009866463e-05\n"
     ]
    },
    {
     "name": "stderr",
     "output_type": "stream",
     "text": [
      "/home/manu/Documentos/Facultad/Datos/2021B/venv8/lib/python3.8/site-packages/sklearn/linear_model/_logistic.py:814: ConvergenceWarning: lbfgs failed to converge (status=1):\n",
      "STOP: TOTAL NO. of ITERATIONS REACHED LIMIT.\n",
      "\n",
      "Increase the number of iterations (max_iter) or scale the data as shown in:\n",
      "    https://scikit-learn.org/stable/modules/preprocessing.html\n",
      "Please also refer to the documentation for alternative solver options:\n",
      "    https://scikit-learn.org/stable/modules/linear_model.html#logistic-regression\n",
      "  n_iter_i = _check_optimize_result(\n"
     ]
    },
    {
     "name": "stdout",
     "output_type": "stream",
     "text": [
      "[CV 2/3; 18/20] END C=0.546134506086106, fit_intercept=False, tol=6.54839009866463e-05;, score=0.697 total time=  57.9s\n",
      "[CV 3/3; 18/20] START C=0.546134506086106, fit_intercept=False, tol=6.54839009866463e-05\n"
     ]
    },
    {
     "name": "stderr",
     "output_type": "stream",
     "text": [
      "/home/manu/Documentos/Facultad/Datos/2021B/venv8/lib/python3.8/site-packages/sklearn/linear_model/_logistic.py:814: ConvergenceWarning: lbfgs failed to converge (status=1):\n",
      "STOP: TOTAL NO. of ITERATIONS REACHED LIMIT.\n",
      "\n",
      "Increase the number of iterations (max_iter) or scale the data as shown in:\n",
      "    https://scikit-learn.org/stable/modules/preprocessing.html\n",
      "Please also refer to the documentation for alternative solver options:\n",
      "    https://scikit-learn.org/stable/modules/linear_model.html#logistic-regression\n",
      "  n_iter_i = _check_optimize_result(\n"
     ]
    },
    {
     "name": "stdout",
     "output_type": "stream",
     "text": [
      "[CV 3/3; 18/20] END C=0.546134506086106, fit_intercept=False, tol=6.54839009866463e-05;, score=0.688 total time=  54.6s\n",
      "[CV 1/3; 19/20] START C=0.5478935261759051, fit_intercept=False, tol=6.442583906681925e-05\n",
      "[CV 1/3; 19/20] END C=0.5478935261759051, fit_intercept=False, tol=6.442583906681925e-05;, score=0.640 total time=  45.8s\n",
      "[CV 2/3; 19/20] START C=0.5478935261759051, fit_intercept=False, tol=6.442583906681925e-05\n"
     ]
    },
    {
     "name": "stderr",
     "output_type": "stream",
     "text": [
      "/home/manu/Documentos/Facultad/Datos/2021B/venv8/lib/python3.8/site-packages/sklearn/linear_model/_logistic.py:814: ConvergenceWarning: lbfgs failed to converge (status=1):\n",
      "STOP: TOTAL NO. of ITERATIONS REACHED LIMIT.\n",
      "\n",
      "Increase the number of iterations (max_iter) or scale the data as shown in:\n",
      "    https://scikit-learn.org/stable/modules/preprocessing.html\n",
      "Please also refer to the documentation for alternative solver options:\n",
      "    https://scikit-learn.org/stable/modules/linear_model.html#logistic-regression\n",
      "  n_iter_i = _check_optimize_result(\n"
     ]
    },
    {
     "name": "stdout",
     "output_type": "stream",
     "text": [
      "[CV 2/3; 19/20] END C=0.5478935261759051, fit_intercept=False, tol=6.442583906681925e-05;, score=0.697 total time=  57.4s\n",
      "[CV 3/3; 19/20] START C=0.5478935261759051, fit_intercept=False, tol=6.442583906681925e-05\n"
     ]
    },
    {
     "name": "stderr",
     "output_type": "stream",
     "text": [
      "/home/manu/Documentos/Facultad/Datos/2021B/venv8/lib/python3.8/site-packages/sklearn/linear_model/_logistic.py:814: ConvergenceWarning: lbfgs failed to converge (status=1):\n",
      "STOP: TOTAL NO. of ITERATIONS REACHED LIMIT.\n",
      "\n",
      "Increase the number of iterations (max_iter) or scale the data as shown in:\n",
      "    https://scikit-learn.org/stable/modules/preprocessing.html\n",
      "Please also refer to the documentation for alternative solver options:\n",
      "    https://scikit-learn.org/stable/modules/linear_model.html#logistic-regression\n",
      "  n_iter_i = _check_optimize_result(\n"
     ]
    },
    {
     "name": "stdout",
     "output_type": "stream",
     "text": [
      "[CV 3/3; 19/20] END C=0.5478935261759051, fit_intercept=False, tol=6.442583906681925e-05;, score=0.677 total time=  57.4s\n",
      "[CV 1/3; 20/20] START C=1.0033701664788675, fit_intercept=False, tol=6.950428581774164e-05\n"
     ]
    },
    {
     "name": "stderr",
     "output_type": "stream",
     "text": [
      "/home/manu/Documentos/Facultad/Datos/2021B/venv8/lib/python3.8/site-packages/sklearn/linear_model/_logistic.py:814: ConvergenceWarning: lbfgs failed to converge (status=1):\n",
      "STOP: TOTAL NO. of ITERATIONS REACHED LIMIT.\n",
      "\n",
      "Increase the number of iterations (max_iter) or scale the data as shown in:\n",
      "    https://scikit-learn.org/stable/modules/preprocessing.html\n",
      "Please also refer to the documentation for alternative solver options:\n",
      "    https://scikit-learn.org/stable/modules/linear_model.html#logistic-regression\n",
      "  n_iter_i = _check_optimize_result(\n"
     ]
    },
    {
     "name": "stdout",
     "output_type": "stream",
     "text": [
      "[CV 1/3; 20/20] END C=1.0033701664788675, fit_intercept=False, tol=6.950428581774164e-05;, score=0.642 total time=  58.4s\n",
      "[CV 2/3; 20/20] START C=1.0033701664788675, fit_intercept=False, tol=6.950428581774164e-05\n",
      "[CV 2/3; 20/20] END C=1.0033701664788675, fit_intercept=False, tol=6.950428581774164e-05;, score=0.690 total time=  39.0s\n",
      "[CV 3/3; 20/20] START C=1.0033701664788675, fit_intercept=False, tol=6.950428581774164e-05\n"
     ]
    },
    {
     "name": "stderr",
     "output_type": "stream",
     "text": [
      "/home/manu/Documentos/Facultad/Datos/2021B/venv8/lib/python3.8/site-packages/sklearn/linear_model/_logistic.py:814: ConvergenceWarning: lbfgs failed to converge (status=1):\n",
      "STOP: TOTAL NO. of ITERATIONS REACHED LIMIT.\n",
      "\n",
      "Increase the number of iterations (max_iter) or scale the data as shown in:\n",
      "    https://scikit-learn.org/stable/modules/preprocessing.html\n",
      "Please also refer to the documentation for alternative solver options:\n",
      "    https://scikit-learn.org/stable/modules/linear_model.html#logistic-regression\n",
      "  n_iter_i = _check_optimize_result(\n"
     ]
    },
    {
     "name": "stdout",
     "output_type": "stream",
     "text": [
      "[CV 3/3; 20/20] END C=1.0033701664788675, fit_intercept=False, tol=6.950428581774164e-05;, score=0.677 total time=  57.3s\n"
     ]
    },
    {
     "data": {
      "text/plain": [
       "RandomizedSearchCV(cv=3, estimator=LogisticRegression(max_iter=250), n_iter=20,\n",
       "                   n_jobs=1,\n",
       "                   param_distributions={'C': <scipy.stats._distn_infrastructure.rv_frozen object at 0x7fb5544eddf0>,\n",
       "                                        'fit_intercept': [True, False],\n",
       "                                        'tol': <scipy.stats._distn_infrastructure.rv_frozen object at 0x7fb5544edb20>},\n",
       "                   random_state=1, scoring='roc_auc', verbose=100)"
      ]
     },
     "execution_count": 2,
     "metadata": {},
     "output_type": "execute_result"
    }
   ],
   "source": [
    "classifier.fit(X_train.values, y_train)"
   ]
  },
  {
   "cell_type": "code",
   "execution_count": 4,
   "id": "007324e1-0853-484e-9e67-4b523c5feaa7",
   "metadata": {
    "id": "007324e1-0853-484e-9e67-4b523c5feaa7"
   },
   "outputs": [
    {
     "name": "stdout",
     "output_type": "stream",
     "text": [
      "Best train score: 0.6719490758303551\n",
      "Best params: \n",
      "C: 0.5125388415030261\n",
      "fit_intercept: False\n",
      "tol: 0.00016252164724174512\n"
     ]
    }
   ],
   "source": [
    "print(\"Best train score: {}\".format(classifier.best_score_))\n",
    "print(\"Best params: \")\n",
    "for param_name in sorted(classifier.best_params_.keys()):\n",
    "    print('%s: %r' % (param_name, classifier.best_params_[param_name]))"
   ]
  },
  {
   "cell_type": "code",
   "execution_count": 6,
   "id": "0fc6249a-d5ea-4ef4-bca6-98473a5aada5",
   "metadata": {
    "id": "0fc6249a-d5ea-4ef4-bca6-98473a5aada5"
   },
   "outputs": [
    {
     "name": "stdout",
     "output_type": "stream",
     "text": [
      "Validation score: 0.5293579409804403\n"
     ]
    }
   ],
   "source": [
    "predictions = classifier.predict_proba(X_val.values)\n",
    "print(\"Validation score: %r\" % roc_auc_score(y_val, [proba[1] for proba in predictions]))"
   ]
  },
  {
   "cell_type": "markdown",
   "id": "e9fc2dfb-55a3-4ff0-8d8f-01363769ad9b",
   "metadata": {},
   "source": [
    "#### Predicción del set de Test para la competencia"
   ]
  },
  {
   "cell_type": "code",
   "execution_count": 7,
   "id": "F1l-PxdgAURJ",
   "metadata": {
    "id": "F1l-PxdgAURJ"
   },
   "outputs": [],
   "source": [
    "del X_train\n",
    "del X_val\n",
    "del y_train\n",
    "del y_val"
   ]
  },
  {
   "cell_type": "code",
   "execution_count": 8,
   "id": "8LpTePyw8PBv",
   "metadata": {
    "id": "8LpTePyw8PBv"
   },
   "outputs": [
    {
     "data": {
      "text/html": [
       "<div>\n",
       "<style scoped>\n",
       "    .dataframe tbody tr th:only-of-type {\n",
       "        vertical-align: middle;\n",
       "    }\n",
       "\n",
       "    .dataframe tbody tr th {\n",
       "        vertical-align: top;\n",
       "    }\n",
       "\n",
       "    .dataframe thead th {\n",
       "        text-align: right;\n",
       "    }\n",
       "</style>\n",
       "<table border=\"1\" class=\"dataframe\">\n",
       "  <thead>\n",
       "    <tr style=\"text-align: right;\">\n",
       "      <th></th>\n",
       "      <th>TransactionID</th>\n",
       "      <th>TransactionDT</th>\n",
       "      <th>TransactionAmt</th>\n",
       "      <th>ProductCD</th>\n",
       "      <th>card1</th>\n",
       "      <th>card2</th>\n",
       "      <th>card3</th>\n",
       "      <th>card4</th>\n",
       "      <th>card5</th>\n",
       "      <th>card6</th>\n",
       "      <th>...</th>\n",
       "      <th>id-31</th>\n",
       "      <th>id-32</th>\n",
       "      <th>id-33</th>\n",
       "      <th>id-34</th>\n",
       "      <th>id-35</th>\n",
       "      <th>id-36</th>\n",
       "      <th>id-37</th>\n",
       "      <th>id-38</th>\n",
       "      <th>DeviceType</th>\n",
       "      <th>DeviceInfo</th>\n",
       "    </tr>\n",
       "  </thead>\n",
       "  <tbody>\n",
       "    <tr>\n",
       "      <th>0</th>\n",
       "      <td>3663549</td>\n",
       "      <td>18403224</td>\n",
       "      <td>31.95</td>\n",
       "      <td>W</td>\n",
       "      <td>10409</td>\n",
       "      <td>111.0</td>\n",
       "      <td>150.0</td>\n",
       "      <td>visa</td>\n",
       "      <td>226.0</td>\n",
       "      <td>debit</td>\n",
       "      <td>...</td>\n",
       "      <td>NaN</td>\n",
       "      <td>NaN</td>\n",
       "      <td>NaN</td>\n",
       "      <td>NaN</td>\n",
       "      <td>NaN</td>\n",
       "      <td>NaN</td>\n",
       "      <td>NaN</td>\n",
       "      <td>NaN</td>\n",
       "      <td>NaN</td>\n",
       "      <td>NaN</td>\n",
       "    </tr>\n",
       "    <tr>\n",
       "      <th>1</th>\n",
       "      <td>3663550</td>\n",
       "      <td>18403263</td>\n",
       "      <td>49.00</td>\n",
       "      <td>W</td>\n",
       "      <td>4272</td>\n",
       "      <td>111.0</td>\n",
       "      <td>150.0</td>\n",
       "      <td>visa</td>\n",
       "      <td>226.0</td>\n",
       "      <td>debit</td>\n",
       "      <td>...</td>\n",
       "      <td>NaN</td>\n",
       "      <td>NaN</td>\n",
       "      <td>NaN</td>\n",
       "      <td>NaN</td>\n",
       "      <td>NaN</td>\n",
       "      <td>NaN</td>\n",
       "      <td>NaN</td>\n",
       "      <td>NaN</td>\n",
       "      <td>NaN</td>\n",
       "      <td>NaN</td>\n",
       "    </tr>\n",
       "    <tr>\n",
       "      <th>2</th>\n",
       "      <td>3663551</td>\n",
       "      <td>18403310</td>\n",
       "      <td>171.00</td>\n",
       "      <td>W</td>\n",
       "      <td>4476</td>\n",
       "      <td>574.0</td>\n",
       "      <td>150.0</td>\n",
       "      <td>visa</td>\n",
       "      <td>226.0</td>\n",
       "      <td>debit</td>\n",
       "      <td>...</td>\n",
       "      <td>NaN</td>\n",
       "      <td>NaN</td>\n",
       "      <td>NaN</td>\n",
       "      <td>NaN</td>\n",
       "      <td>NaN</td>\n",
       "      <td>NaN</td>\n",
       "      <td>NaN</td>\n",
       "      <td>NaN</td>\n",
       "      <td>NaN</td>\n",
       "      <td>NaN</td>\n",
       "    </tr>\n",
       "    <tr>\n",
       "      <th>3</th>\n",
       "      <td>3663552</td>\n",
       "      <td>18403310</td>\n",
       "      <td>284.95</td>\n",
       "      <td>W</td>\n",
       "      <td>10989</td>\n",
       "      <td>360.0</td>\n",
       "      <td>150.0</td>\n",
       "      <td>visa</td>\n",
       "      <td>166.0</td>\n",
       "      <td>debit</td>\n",
       "      <td>...</td>\n",
       "      <td>NaN</td>\n",
       "      <td>NaN</td>\n",
       "      <td>NaN</td>\n",
       "      <td>NaN</td>\n",
       "      <td>NaN</td>\n",
       "      <td>NaN</td>\n",
       "      <td>NaN</td>\n",
       "      <td>NaN</td>\n",
       "      <td>NaN</td>\n",
       "      <td>NaN</td>\n",
       "    </tr>\n",
       "    <tr>\n",
       "      <th>4</th>\n",
       "      <td>3663553</td>\n",
       "      <td>18403317</td>\n",
       "      <td>67.95</td>\n",
       "      <td>W</td>\n",
       "      <td>18018</td>\n",
       "      <td>452.0</td>\n",
       "      <td>150.0</td>\n",
       "      <td>mastercard</td>\n",
       "      <td>117.0</td>\n",
       "      <td>debit</td>\n",
       "      <td>...</td>\n",
       "      <td>NaN</td>\n",
       "      <td>NaN</td>\n",
       "      <td>NaN</td>\n",
       "      <td>NaN</td>\n",
       "      <td>NaN</td>\n",
       "      <td>NaN</td>\n",
       "      <td>NaN</td>\n",
       "      <td>NaN</td>\n",
       "      <td>NaN</td>\n",
       "      <td>NaN</td>\n",
       "    </tr>\n",
       "  </tbody>\n",
       "</table>\n",
       "<p>5 rows × 433 columns</p>\n",
       "</div>"
      ],
      "text/plain": [
       "   TransactionID  TransactionDT  TransactionAmt ProductCD  card1  card2  \\\n",
       "0        3663549       18403224           31.95         W  10409  111.0   \n",
       "1        3663550       18403263           49.00         W   4272  111.0   \n",
       "2        3663551       18403310          171.00         W   4476  574.0   \n",
       "3        3663552       18403310          284.95         W  10989  360.0   \n",
       "4        3663553       18403317           67.95         W  18018  452.0   \n",
       "\n",
       "   card3       card4  card5  card6  ...  id-31  id-32  id-33  id-34 id-35  \\\n",
       "0  150.0        visa  226.0  debit  ...    NaN    NaN    NaN    NaN   NaN   \n",
       "1  150.0        visa  226.0  debit  ...    NaN    NaN    NaN    NaN   NaN   \n",
       "2  150.0        visa  226.0  debit  ...    NaN    NaN    NaN    NaN   NaN   \n",
       "3  150.0        visa  166.0  debit  ...    NaN    NaN    NaN    NaN   NaN   \n",
       "4  150.0  mastercard  117.0  debit  ...    NaN    NaN    NaN    NaN   NaN   \n",
       "\n",
       "  id-36  id-37  id-38  DeviceType  DeviceInfo  \n",
       "0   NaN    NaN    NaN         NaN         NaN  \n",
       "1   NaN    NaN    NaN         NaN         NaN  \n",
       "2   NaN    NaN    NaN         NaN         NaN  \n",
       "3   NaN    NaN    NaN         NaN         NaN  \n",
       "4   NaN    NaN    NaN         NaN         NaN  \n",
       "\n",
       "[5 rows x 433 columns]"
      ]
     },
     "execution_count": 8,
     "metadata": {},
     "output_type": "execute_result"
    }
   ],
   "source": [
    "dfTestTransaction = pd.read_csv(\"../Dataset/ML/test_transaction.csv\")\n",
    "dfTestIdentity = pd.read_csv(\"../Dataset/ML/test_identity.csv\")\n",
    "dfTest = dfTestTransaction.merge(dfTestIdentity, on = \"TransactionID\", how = \"left\")\n",
    "\n",
    "del dfTestTransaction\n",
    "del dfTestIdentity\n",
    "dfTest.head()"
   ]
  },
  {
   "cell_type": "code",
   "execution_count": 9,
   "id": "TzAjgTOfA27g",
   "metadata": {
    "id": "TzAjgTOfA27g"
   },
   "outputs": [],
   "source": [
    "# Por algún motivo el dataset de Test viene con nombres distintos en las columnas de ID.\n",
    "# Las igualo al set de entrenamiento.\n",
    "dfTest.columns = [columna.replace(\"id-\", \"id_\") for columna in dfTest.columns]"
   ]
  },
  {
   "cell_type": "code",
   "execution_count": 10,
   "id": "WSFiqoyw-Fcf",
   "metadata": {
    "id": "WSFiqoyw-Fcf"
   },
   "outputs": [],
   "source": [
    "# Aplico el mean encoding al set de Test.\n",
    "for i, columna in enumerate(columnas_categoricas):\n",
    "    mean_encoded = means[i]\n",
    "    dfTest[columna] =  dfTest[columna].map(mean_encoded)"
   ]
  },
  {
   "cell_type": "code",
   "execution_count": 11,
   "id": "YeHz4Mpz-PyB",
   "metadata": {
    "id": "YeHz4Mpz-PyB"
   },
   "outputs": [],
   "source": [
    "for columna in dfTest.columns:\n",
    "    dfTest[columna].fillna(dfTest[columna].mean(), inplace = True)"
   ]
  },
  {
   "cell_type": "code",
   "execution_count": 12,
   "id": "XPVHSWPu-XBL",
   "metadata": {
    "id": "XPVHSWPu-XBL"
   },
   "outputs": [
    {
     "data": {
      "text/html": [
       "<div>\n",
       "<style scoped>\n",
       "    .dataframe tbody tr th:only-of-type {\n",
       "        vertical-align: middle;\n",
       "    }\n",
       "\n",
       "    .dataframe tbody tr th {\n",
       "        vertical-align: top;\n",
       "    }\n",
       "\n",
       "    .dataframe thead th {\n",
       "        text-align: right;\n",
       "    }\n",
       "</style>\n",
       "<table border=\"1\" class=\"dataframe\">\n",
       "  <thead>\n",
       "    <tr style=\"text-align: right;\">\n",
       "      <th></th>\n",
       "      <th>TransactionID</th>\n",
       "      <th>TransactionDT</th>\n",
       "      <th>TransactionAmt</th>\n",
       "      <th>ProductCD</th>\n",
       "      <th>card1</th>\n",
       "      <th>card2</th>\n",
       "      <th>card3</th>\n",
       "      <th>card4</th>\n",
       "      <th>card5</th>\n",
       "      <th>card6</th>\n",
       "      <th>...</th>\n",
       "      <th>id_32</th>\n",
       "      <th>id_33</th>\n",
       "      <th>id_34</th>\n",
       "      <th>id_35</th>\n",
       "      <th>id_36</th>\n",
       "      <th>id_37</th>\n",
       "      <th>id_38</th>\n",
       "      <th>DeviceType</th>\n",
       "      <th>DeviceInfo</th>\n",
       "      <th>isFraud</th>\n",
       "    </tr>\n",
       "  </thead>\n",
       "  <tbody>\n",
       "    <tr>\n",
       "      <th>0</th>\n",
       "      <td>3663549</td>\n",
       "      <td>18403224</td>\n",
       "      <td>31.95</td>\n",
       "      <td>0.020594</td>\n",
       "      <td>0.000000</td>\n",
       "      <td>0.021859</td>\n",
       "      <td>0.02486</td>\n",
       "      <td>0.034743</td>\n",
       "      <td>0.029550</td>\n",
       "      <td>0.023998</td>\n",
       "      <td>...</td>\n",
       "      <td>0.041676</td>\n",
       "      <td>0.045274</td>\n",
       "      <td>0.037747</td>\n",
       "      <td>0.079278</td>\n",
       "      <td>0.077216</td>\n",
       "      <td>0.075708</td>\n",
       "      <td>0.083162</td>\n",
       "      <td>0.07855</td>\n",
       "      <td>0.059121</td>\n",
       "      <td>0.000351</td>\n",
       "    </tr>\n",
       "    <tr>\n",
       "      <th>1</th>\n",
       "      <td>3663550</td>\n",
       "      <td>18403263</td>\n",
       "      <td>49.00</td>\n",
       "      <td>0.020594</td>\n",
       "      <td>0.028136</td>\n",
       "      <td>0.021859</td>\n",
       "      <td>0.02486</td>\n",
       "      <td>0.034743</td>\n",
       "      <td>0.029550</td>\n",
       "      <td>0.023998</td>\n",
       "      <td>...</td>\n",
       "      <td>0.041676</td>\n",
       "      <td>0.045274</td>\n",
       "      <td>0.037747</td>\n",
       "      <td>0.079278</td>\n",
       "      <td>0.077216</td>\n",
       "      <td>0.075708</td>\n",
       "      <td>0.083162</td>\n",
       "      <td>0.07855</td>\n",
       "      <td>0.059121</td>\n",
       "      <td>0.000281</td>\n",
       "    </tr>\n",
       "    <tr>\n",
       "      <th>2</th>\n",
       "      <td>3663551</td>\n",
       "      <td>18403310</td>\n",
       "      <td>171.00</td>\n",
       "      <td>0.020594</td>\n",
       "      <td>0.000000</td>\n",
       "      <td>0.000000</td>\n",
       "      <td>0.02486</td>\n",
       "      <td>0.034743</td>\n",
       "      <td>0.029550</td>\n",
       "      <td>0.023998</td>\n",
       "      <td>...</td>\n",
       "      <td>0.041676</td>\n",
       "      <td>0.045274</td>\n",
       "      <td>0.037747</td>\n",
       "      <td>0.079278</td>\n",
       "      <td>0.077216</td>\n",
       "      <td>0.075708</td>\n",
       "      <td>0.083162</td>\n",
       "      <td>0.07855</td>\n",
       "      <td>0.059121</td>\n",
       "      <td>0.000529</td>\n",
       "    </tr>\n",
       "    <tr>\n",
       "      <th>3</th>\n",
       "      <td>3663552</td>\n",
       "      <td>18403310</td>\n",
       "      <td>284.95</td>\n",
       "      <td>0.020594</td>\n",
       "      <td>0.003663</td>\n",
       "      <td>0.010315</td>\n",
       "      <td>0.02486</td>\n",
       "      <td>0.034743</td>\n",
       "      <td>0.010512</td>\n",
       "      <td>0.023998</td>\n",
       "      <td>...</td>\n",
       "      <td>0.041676</td>\n",
       "      <td>0.045274</td>\n",
       "      <td>0.037747</td>\n",
       "      <td>0.079278</td>\n",
       "      <td>0.077216</td>\n",
       "      <td>0.075708</td>\n",
       "      <td>0.083162</td>\n",
       "      <td>0.07855</td>\n",
       "      <td>0.059121</td>\n",
       "      <td>0.002364</td>\n",
       "    </tr>\n",
       "    <tr>\n",
       "      <th>4</th>\n",
       "      <td>3663553</td>\n",
       "      <td>18403317</td>\n",
       "      <td>67.95</td>\n",
       "      <td>0.020594</td>\n",
       "      <td>0.013263</td>\n",
       "      <td>0.012275</td>\n",
       "      <td>0.02486</td>\n",
       "      <td>0.035260</td>\n",
       "      <td>0.015206</td>\n",
       "      <td>0.023998</td>\n",
       "      <td>...</td>\n",
       "      <td>0.041676</td>\n",
       "      <td>0.045274</td>\n",
       "      <td>0.037747</td>\n",
       "      <td>0.079278</td>\n",
       "      <td>0.077216</td>\n",
       "      <td>0.075708</td>\n",
       "      <td>0.083162</td>\n",
       "      <td>0.07855</td>\n",
       "      <td>0.059121</td>\n",
       "      <td>0.011585</td>\n",
       "    </tr>\n",
       "  </tbody>\n",
       "</table>\n",
       "<p>5 rows × 434 columns</p>\n",
       "</div>"
      ],
      "text/plain": [
       "   TransactionID  TransactionDT  TransactionAmt  ProductCD     card1  \\\n",
       "0        3663549       18403224           31.95   0.020594  0.000000   \n",
       "1        3663550       18403263           49.00   0.020594  0.028136   \n",
       "2        3663551       18403310          171.00   0.020594  0.000000   \n",
       "3        3663552       18403310          284.95   0.020594  0.003663   \n",
       "4        3663553       18403317           67.95   0.020594  0.013263   \n",
       "\n",
       "      card2    card3     card4     card5     card6  ...     id_32     id_33  \\\n",
       "0  0.021859  0.02486  0.034743  0.029550  0.023998  ...  0.041676  0.045274   \n",
       "1  0.021859  0.02486  0.034743  0.029550  0.023998  ...  0.041676  0.045274   \n",
       "2  0.000000  0.02486  0.034743  0.029550  0.023998  ...  0.041676  0.045274   \n",
       "3  0.010315  0.02486  0.034743  0.010512  0.023998  ...  0.041676  0.045274   \n",
       "4  0.012275  0.02486  0.035260  0.015206  0.023998  ...  0.041676  0.045274   \n",
       "\n",
       "      id_34     id_35     id_36     id_37     id_38  DeviceType  DeviceInfo  \\\n",
       "0  0.037747  0.079278  0.077216  0.075708  0.083162     0.07855    0.059121   \n",
       "1  0.037747  0.079278  0.077216  0.075708  0.083162     0.07855    0.059121   \n",
       "2  0.037747  0.079278  0.077216  0.075708  0.083162     0.07855    0.059121   \n",
       "3  0.037747  0.079278  0.077216  0.075708  0.083162     0.07855    0.059121   \n",
       "4  0.037747  0.079278  0.077216  0.075708  0.083162     0.07855    0.059121   \n",
       "\n",
       "    isFraud  \n",
       "0  0.000351  \n",
       "1  0.000281  \n",
       "2  0.000529  \n",
       "3  0.002364  \n",
       "4  0.011585  \n",
       "\n",
       "[5 rows x 434 columns]"
      ]
     },
     "execution_count": 12,
     "metadata": {},
     "output_type": "execute_result"
    }
   ],
   "source": [
    "predictions = classifier.predict_proba(dfTest.iloc[:,1:].values)\n",
    "dfTest[\"isFraud\"] = [prediction[1] for prediction in predictions]\n",
    "dfTest.head()"
   ]
  },
  {
   "cell_type": "code",
   "execution_count": 14,
   "id": "8104c964-e067-4c74-b7a2-e71be123d980",
   "metadata": {},
   "outputs": [],
   "source": [
    "dfTest[[\"TransactionID\", \"isFraud\"]].to_csv(\"baseline_submission.csv\", index = False)"
   ]
  },
  {
   "cell_type": "markdown",
   "id": "WaR3lpVUMe0v",
   "metadata": {
    "id": "WaR3lpVUMe0v"
   },
   "source": [
    "### ¿Cuál es el mejor score de validación obtenido? (¿Cómo conviene obtener el dataset para validar?)"
   ]
  },
  {
   "cell_type": "markdown",
   "id": "mrlJ_CMKNEK9",
   "metadata": {
    "id": "mrlJ_CMKNEK9"
   },
   "source": [
    "El _score_ de validación utilizando el mejor modelo fue `0.5293579409804403`.\n",
    "\n",
    "Para obtener el dataset de validación hay que tener en cuenta que hay campos temporales (TransactionDT), con lo cual no se pueden obtener al azar. Por esto, como el dataset está ordenado por ese campo, hago un _split_ del primer 75% para el set de entrenamiento, y el 25% siguiente lo dejo para la validación. Todo esto hay que realizarlo antes de hacer el _encoding_ ya que de otra forma estaríamos filtrando datos del set de validación al entrenamiento."
   ]
  },
  {
   "cell_type": "markdown",
   "id": "sQRoFBx5Mtfu",
   "metadata": {
    "id": "sQRoFBx5Mtfu"
   },
   "source": [
    "### Al predecir con este modelo para la competencia, ¿Cúal es el score obtenido? (guardar el csv con predicciones para entregarlo después)"
   ]
  },
  {
   "cell_type": "markdown",
   "id": "ID9JyIYoNDLy",
   "metadata": {
    "id": "ID9JyIYoNDLy"
   },
   "source": [
    "El _score_ obtenido en Kaggle es de `0.698215`. El csv con las predicciones se encuentra en https://github.com/ManuelBilbao/75.06-OrgaDeDatos-TPs/tree/main/ML/baseline_submission.csv"
   ]
  },
  {
   "cell_type": "markdown",
   "id": "ZTJAyrPbMx7o",
   "metadata": {
    "id": "ZTJAyrPbMx7o"
   },
   "source": [
    "### ¿Qué features son los más importantes para predecir con el mejor modelo? Graficar."
   ]
  },
  {
   "cell_type": "code",
   "execution_count": 16,
   "id": "9f8b87ac-3094-4712-9028-a7a84d37f2a7",
   "metadata": {},
   "outputs": [
    {
     "data": {
      "text/html": [
       "<div>\n",
       "<style scoped>\n",
       "    .dataframe tbody tr th:only-of-type {\n",
       "        vertical-align: middle;\n",
       "    }\n",
       "\n",
       "    .dataframe tbody tr th {\n",
       "        vertical-align: top;\n",
       "    }\n",
       "\n",
       "    .dataframe thead th {\n",
       "        text-align: right;\n",
       "    }\n",
       "</style>\n",
       "<table border=\"1\" class=\"dataframe\">\n",
       "  <thead>\n",
       "    <tr style=\"text-align: right;\">\n",
       "      <th></th>\n",
       "      <th>weights</th>\n",
       "      <th>index</th>\n",
       "      <th>abs</th>\n",
       "    </tr>\n",
       "  </thead>\n",
       "  <tbody>\n",
       "    <tr>\n",
       "      <th>0</th>\n",
       "      <td>-4.830965e-09</td>\n",
       "      <td>0</td>\n",
       "      <td>4.830965e-09</td>\n",
       "    </tr>\n",
       "    <tr>\n",
       "      <th>1</th>\n",
       "      <td>-7.088692e-04</td>\n",
       "      <td>1</td>\n",
       "      <td>7.088692e-04</td>\n",
       "    </tr>\n",
       "    <tr>\n",
       "      <th>2</th>\n",
       "      <td>6.047363e-08</td>\n",
       "      <td>2</td>\n",
       "      <td>6.047363e-08</td>\n",
       "    </tr>\n",
       "    <tr>\n",
       "      <th>3</th>\n",
       "      <td>2.067090e-06</td>\n",
       "      <td>3</td>\n",
       "      <td>2.067090e-06</td>\n",
       "    </tr>\n",
       "    <tr>\n",
       "      <th>4</th>\n",
       "      <td>6.118086e-07</td>\n",
       "      <td>4</td>\n",
       "      <td>6.118086e-07</td>\n",
       "    </tr>\n",
       "  </tbody>\n",
       "</table>\n",
       "</div>"
      ],
      "text/plain": [
       "        weights  index           abs\n",
       "0 -4.830965e-09      0  4.830965e-09\n",
       "1 -7.088692e-04      1  7.088692e-04\n",
       "2  6.047363e-08      2  6.047363e-08\n",
       "3  2.067090e-06      3  2.067090e-06\n",
       "4  6.118086e-07      4  6.118086e-07"
      ]
     },
     "execution_count": 16,
     "metadata": {},
     "output_type": "execute_result"
    }
   ],
   "source": [
    "features = pd.DataFrame(classifier.best_estimator_.coef_[0], columns = [\"weights\"])\n",
    "features[\"index\"] = features.index\n",
    "features[\"abs\"] = features[\"weights\"].transform(lambda x: abs(x))\n",
    "features.head()"
   ]
  },
  {
   "cell_type": "code",
   "execution_count": 19,
   "id": "4ecc2665-be19-41b7-8212-b162039a85af",
   "metadata": {},
   "outputs": [
    {
     "data": {
      "text/plain": [
       "[Text(0.5, 0, 'Feature'),\n",
       " Text(0, 0.5, 'Peso'),\n",
       " Text(0.5, 1.0, '7 features más importantes'),\n",
       " [Text(0, 0, 'D7'),\n",
       "  Text(1, 0, 'D14'),\n",
       "  Text(2, 0, 'dist1'),\n",
       "  Text(3, 0, 'D1'),\n",
       "  Text(4, 0, 'D9'),\n",
       "  Text(5, 0, 'D3'),\n",
       "  Text(6, 0, 'D10')]]"
      ]
     },
     "execution_count": 19,
     "metadata": {},
     "output_type": "execute_result"
    },
    {
     "data": {
      "image/png": "[encoded data removed]",
      "text/plain": [
       "<Figure size 800x400 with 1 Axes>"
      ]
     },
     "metadata": {
      "needs_background": "light"
     },
     "output_type": "display_data"
    }
   ],
   "source": [
    "plt.subplots(dpi = 100, figsize = (8, 4))\n",
    "ax = sns.barplot(data = features.nlargest(7, \"abs\"), x = \"index\", y = \"abs\", order = features.nlargest(7, \"abs\")[\"index\"])\n",
    "ax.set(xlabel = \"Feature\", ylabel = \"Peso\", title = \"7 features más importantes\",\n",
    "       xticklabels = [dfTest.columns[int(label.get_text())] for label in ax.get_xticklabels()])"
   ]
  },
  {
   "cell_type": "markdown",
   "id": "CSVbGEWoNBkT",
   "metadata": {
    "id": "CSVbGEWoNBkT"
   },
   "source": [
    "Las 7 _features_ más importantes según el modelo obtenido fueron (en orden decreciente): _D7_, _D14_, _dist1_, _D1_, _D9_, _D3_, _D10_"
   ]
  }
 ],
 "metadata": {
  "accelerator": "GPU",
  "colab": {
   "name": "Prueba TP3.ipynb",
   "provenance": []
  },
  "kernelspec": {
   "display_name": "Python 3 (ipykernel)",
   "language": "python",
   "name": "python3"
  },
  "language_info": {
   "codemirror_mode": {
    "name": "ipython",
    "version": 3
   },
   "file_extension": ".py",
   "mimetype": "text/x-python",
   "name": "python",
   "nbconvert_exporter": "python",
   "pygments_lexer": "ipython3",
   "version": "3.8.0"
  }
 },
 "nbformat": 4,
 "nbformat_minor": 5
}
