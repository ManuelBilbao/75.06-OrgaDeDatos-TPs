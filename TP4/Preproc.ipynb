{
 "cells": [
  {
   "cell_type": "code",
   "execution_count": 1,
   "id": "de6bfd39-5f84-4a84-8c0f-e801e4375932",
   "metadata": {},
   "outputs": [],
   "source": [
    "import pandas as pd\n",
    "import os"
   ]
  },
  {
   "cell_type": "code",
   "execution_count": 2,
   "id": "ce2bff43-d626-4111-89f5-293754b52350",
   "metadata": {},
   "outputs": [
    {
     "data": {
      "text/html": [
       "<div>\n",
       "<style scoped>\n",
       "    .dataframe tbody tr th:only-of-type {\n",
       "        vertical-align: middle;\n",
       "    }\n",
       "\n",
       "    .dataframe tbody tr th {\n",
       "        vertical-align: top;\n",
       "    }\n",
       "\n",
       "    .dataframe thead th {\n",
       "        text-align: right;\n",
       "    }\n",
       "</style>\n",
       "<table border=\"1\" class=\"dataframe\">\n",
       "  <thead>\n",
       "    <tr style=\"text-align: right;\">\n",
       "      <th></th>\n",
       "      <th>category</th>\n",
       "      <th>image_id</th>\n",
       "    </tr>\n",
       "  </thead>\n",
       "  <tbody>\n",
       "    <tr>\n",
       "      <th>0</th>\n",
       "      <td>Alcohol</td>\n",
       "      <td>NaN</td>\n",
       "    </tr>\n",
       "    <tr>\n",
       "      <th>1</th>\n",
       "      <td>Alcohol</td>\n",
       "      <td>343.0</td>\n",
       "    </tr>\n",
       "    <tr>\n",
       "      <th>2</th>\n",
       "      <td>Alcohol</td>\n",
       "      <td>334.0</td>\n",
       "    </tr>\n",
       "    <tr>\n",
       "      <th>3</th>\n",
       "      <td>Alcohol</td>\n",
       "      <td>352.0</td>\n",
       "    </tr>\n",
       "    <tr>\n",
       "      <th>4</th>\n",
       "      <td>Alcohol</td>\n",
       "      <td>337.0</td>\n",
       "    </tr>\n",
       "  </tbody>\n",
       "</table>\n",
       "</div>"
      ],
      "text/plain": [
       "  category  image_id\n",
       "0  Alcohol       NaN\n",
       "1  Alcohol     343.0\n",
       "2  Alcohol     334.0\n",
       "3  Alcohol     352.0\n",
       "4  Alcohol     337.0"
      ]
     },
     "execution_count": 2,
     "metadata": {},
     "output_type": "execute_result"
    }
   ],
   "source": [
    "df = pd.read_csv(\"../Dataset/silkroad2_csvs/silkroad_items.csv\", usecols = [\"image_id\", \"category\"])\n",
    "df.head()"
   ]
  },
  {
   "cell_type": "code",
   "execution_count": 3,
   "id": "126c8ca2-e5d2-4092-b117-a7c6b1f13c63",
   "metadata": {},
   "outputs": [
    {
     "data": {
      "text/html": [
       "<div>\n",
       "<style scoped>\n",
       "    .dataframe tbody tr th:only-of-type {\n",
       "        vertical-align: middle;\n",
       "    }\n",
       "\n",
       "    .dataframe tbody tr th {\n",
       "        vertical-align: top;\n",
       "    }\n",
       "\n",
       "    .dataframe thead th {\n",
       "        text-align: right;\n",
       "    }\n",
       "</style>\n",
       "<table border=\"1\" class=\"dataframe\">\n",
       "  <thead>\n",
       "    <tr style=\"text-align: right;\">\n",
       "      <th></th>\n",
       "      <th>category</th>\n",
       "      <th>image_id</th>\n",
       "    </tr>\n",
       "  </thead>\n",
       "  <tbody>\n",
       "    <tr>\n",
       "      <th>1</th>\n",
       "      <td>Alcohol</td>\n",
       "      <td>343</td>\n",
       "    </tr>\n",
       "    <tr>\n",
       "      <th>2</th>\n",
       "      <td>Alcohol</td>\n",
       "      <td>334</td>\n",
       "    </tr>\n",
       "    <tr>\n",
       "      <th>3</th>\n",
       "      <td>Alcohol</td>\n",
       "      <td>352</td>\n",
       "    </tr>\n",
       "    <tr>\n",
       "      <th>4</th>\n",
       "      <td>Alcohol</td>\n",
       "      <td>337</td>\n",
       "    </tr>\n",
       "    <tr>\n",
       "      <th>6</th>\n",
       "      <td>Drugs</td>\n",
       "      <td>293</td>\n",
       "    </tr>\n",
       "  </tbody>\n",
       "</table>\n",
       "</div>"
      ],
      "text/plain": [
       "  category  image_id\n",
       "1  Alcohol       343\n",
       "2  Alcohol       334\n",
       "3  Alcohol       352\n",
       "4  Alcohol       337\n",
       "6    Drugs       293"
      ]
     },
     "execution_count": 3,
     "metadata": {},
     "output_type": "execute_result"
    }
   ],
   "source": [
    "df.dropna(subset = [\"image_id\"], inplace = True)\n",
    "df = df.astype({\"image_id\": int})\n",
    "df.head()"
   ]
  },
  {
   "cell_type": "code",
   "execution_count": 24,
   "id": "9c66c6d7-b231-4881-b7cb-499136c4f2f4",
   "metadata": {},
   "outputs": [
    {
     "name": "stderr",
     "output_type": "stream",
     "text": [
      "IOPub data rate exceeded.\n",
      "The Jupyter server will temporarily stop sending output\n",
      "to the client in order to avoid crashing it.\n",
      "To change this limit, set the config variable\n",
      "`--ServerApp.iopub_data_rate_limit`.\n",
      "\n",
      "Current values:\n",
      "ServerApp.iopub_data_rate_limit=1000000.0 (bytes/sec)\n",
      "ServerApp.rate_limit_window=3.0 (secs)\n",
      "\n"
     ]
    }
   ],
   "source": [
    "#create Series for unique index values of dirs and lists for file names \n",
    "s = df.groupby('category')['image_id'].apply(list)\n",
    "\n",
    "import os, glob, shutil\n",
    "#get all images from folder  \n",
    "src_files = glob.glob('/home/manu/Documentos/Facultad/Datos/2021B/TPs/Dataset/silkroad2_images/images_by_id/*.jpg')\n",
    "#create dictionary for lookup values from DataFrame\n",
    "lookup = {x.split('/')[-1]:x for x in src_files}\n",
    "print (lookup)\n",
    "\n",
    "#loop by Series \n",
    "for directory, files in s.items():\n",
    "    #first create folders\n",
    "    path = os.path.join('/home/manu/Documentos/Facultad/Datos/2021B/TPs/Dataset/silkroad2_images/images_by_tag/', directory)\n",
    "    if not os.path.exists(path):\n",
    "        os.makedirs(path)\n",
    "\n",
    "    for file in files:\n",
    "        #get path of each image, if not exist return None\n",
    "        orig = lookup.get(str(file) + \".jpg\", None)\n",
    "        #copy files from DataFrame\n",
    "        if orig is not None:\n",
    "            dest = os.path.join(path, str(file) + \".jpg\")\n",
    "            shutil.copy(orig, dest)"
   ]
  },
  {
   "cell_type": "code",
   "execution_count": 23,
   "id": "887978eb-c21c-42df-b9bf-5605a1baea9a",
   "metadata": {},
   "outputs": [
    {
     "name": "stdout",
     "output_type": "stream",
     "text": [
      "/home/manu/Documentos/Facultad/Datos/2021B/TPs/Dataset/silkroad2_images/images_by_tag/2-DPMP/18261.jpg\n",
      "/home/manu/Documentos/Facultad/Datos/2021B/TPs/Dataset/silkroad2_images/images_by_tag/2-DPMP/18297.jpg\n",
      "/home/manu/Documentos/Facultad/Datos/2021B/TPs/Dataset/silkroad2_images/images_by_tag/2-DPMP/18261.jpg\n",
      "/home/manu/Documentos/Facultad/Datos/2021B/TPs/Dataset/silkroad2_images/images_by_tag/2-DPMP/18297.jpg\n",
      "/home/manu/Documentos/Facultad/Datos/2021B/TPs/Dataset/silkroad2_images/images_by_tag/2-DPMP/18297.jpg\n"
     ]
    }
   ],
   "source": [
    "for (i, (directory, files)) in enumerate(s.items()):\n",
    "    #first create folders\n",
    "    path = os.path.join('/home/manu/Documentos/Facultad/Datos/2021B/TPs/Dataset/silkroad2_images/images_by_tag/', directory)\n",
    "    if not os.path.exists(path):\n",
    "        os.makedirs(path)\n",
    "\n",
    "    if i < 1:\n",
    "        for file in files:\n",
    "            #get path of each image, if not exist return None\n",
    "            orig = lookup.get(str(file) + \".jpg\", None)\n",
    "            #copy files from DataFrame\n",
    "            if orig is not None:\n",
    "                dest = os.path.join(path, str(file) + \".jpg\")\n",
    "                print(dest)\n",
    "                # shutil.copy(orig, dest)"
   ]
  },
  {
   "cell_type": "code",
   "execution_count": 5,
   "id": "1431aaa6-c051-43e4-9820-e2cbf62ae514",
   "metadata": {},
   "outputs": [
    {
     "data": {
      "text/plain": [
       "Alcohol       71133\n",
       "Stimulants    24372\n",
       "Weed          19587\n",
       "Ecstasy       17947\n",
       "MDMA          16013\n",
       "              ...  \n",
       "MET               1\n",
       "Peyote            1\n",
       "2C-T-4            1\n",
       "4-HO-MET          1\n",
       "2C-D              1\n",
       "Name: category, Length: 301, dtype: int64"
      ]
     },
     "execution_count": 5,
     "metadata": {},
     "output_type": "execute_result"
    }
   ],
   "source": [
    "df[\"category\"].value_counts()"
   ]
  }
 ],
 "metadata": {
  "kernelspec": {
   "display_name": "Python 3 (ipykernel)",
   "language": "python",
   "name": "python3"
  },
  "language_info": {
   "codemirror_mode": {
    "name": "ipython",
    "version": 3
   },
   "file_extension": ".py",
   "mimetype": "text/x-python",
   "name": "python",
   "nbconvert_exporter": "python",
   "pygments_lexer": "ipython3",
   "version": "3.8.0"
  }
 },
 "nbformat": 4,
 "nbformat_minor": 5
}
