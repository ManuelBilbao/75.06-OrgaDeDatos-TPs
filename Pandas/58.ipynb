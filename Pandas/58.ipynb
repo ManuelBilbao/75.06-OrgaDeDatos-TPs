{
 "cells": [
  {
   "cell_type": "markdown",
   "id": "f6bb1ba2-481e-46ca-b13e-0b25dc5e42cf",
   "metadata": {},
   "source": [
    "## 58. Observe una muestra aleatoria de los comentarios de las acciones realizadas por usuarios o ips antes de ser bloqueados. Observe otra muestra de comentarios de acciones de todos. (⭐⭐)"
   ]
  },
  {
   "cell_type": "code",
   "execution_count": 1,
   "id": "4b46694a-c829-4fc3-accf-2165e6eea636",
   "metadata": {},
   "outputs": [],
   "source": [
    "import pandas as pd"
   ]
  },
  {
   "cell_type": "code",
   "execution_count": 2,
   "id": "2c9fb9c5-9346-4a6a-8e6f-48087e38a23d",
   "metadata": {},
   "outputs": [
    {
     "data": {
      "text/html": [
       "<div>\n",
       "<style scoped>\n",
       "    .dataframe tbody tr th:only-of-type {\n",
       "        vertical-align: middle;\n",
       "    }\n",
       "\n",
       "    .dataframe tbody tr th {\n",
       "        vertical-align: top;\n",
       "    }\n",
       "\n",
       "    .dataframe thead th {\n",
       "        text-align: right;\n",
       "    }\n",
       "</style>\n",
       "<table border=\"1\" class=\"dataframe\">\n",
       "  <thead>\n",
       "    <tr style=\"text-align: right;\">\n",
       "      <th></th>\n",
       "      <th>timestamp</th>\n",
       "      <th>contributor_username</th>\n",
       "      <th>contributor_ip</th>\n",
       "      <th>comment</th>\n",
       "      <th>logtype</th>\n",
       "      <th>action</th>\n",
       "      <th>title</th>\n",
       "    </tr>\n",
       "  </thead>\n",
       "  <tbody>\n",
       "    <tr>\n",
       "      <th>0</th>\n",
       "      <td>2004-12-23 07:10:09+00:00</td>\n",
       "      <td>Sabbut</td>\n",
       "      <td>NaN</td>\n",
       "      <td>el contenido era: 'Si aprendés Pensamiento Cie...</td>\n",
       "      <td>delete</td>\n",
       "      <td>delete</td>\n",
       "      <td>Verificacionismo</td>\n",
       "    </tr>\n",
       "    <tr>\n",
       "      <th>1</th>\n",
       "      <td>2004-12-23 07:14:09+00:00</td>\n",
       "      <td>Sabbut</td>\n",
       "      <td>NaN</td>\n",
       "      <td>el contenido era: '{{destruir}}en algun lugar ...</td>\n",
       "      <td>delete</td>\n",
       "      <td>delete</td>\n",
       "      <td>Rapunzel</td>\n",
       "    </tr>\n",
       "    <tr>\n",
       "      <th>2</th>\n",
       "      <td>2004-12-23 07:26:10+00:00</td>\n",
       "      <td>Sabbut</td>\n",
       "      <td>NaN</td>\n",
       "      <td>el contenido era: '#REDIRECT [[Flash]]'</td>\n",
       "      <td>delete</td>\n",
       "      <td>delete</td>\n",
       "      <td>Macromedia Flash</td>\n",
       "    </tr>\n",
       "    <tr>\n",
       "      <th>3</th>\n",
       "      <td>2004-12-23 07:55:09+00:00</td>\n",
       "      <td>Sanbec</td>\n",
       "      <td>NaN</td>\n",
       "      <td>Sin información de origen ni de licencia. Hay ...</td>\n",
       "      <td>delete</td>\n",
       "      <td>delete</td>\n",
       "      <td>Archivo:Gnu head.png</td>\n",
       "    </tr>\n",
       "    <tr>\n",
       "      <th>4</th>\n",
       "      <td>2004-12-23 08:02:22+00:00</td>\n",
       "      <td>Sanbec</td>\n",
       "      <td>NaN</td>\n",
       "      <td>Sustituida por  [[commons:Image:Heckert_GNU.png]]</td>\n",
       "      <td>delete</td>\n",
       "      <td>delete</td>\n",
       "      <td>Archivo:Gnu-head-sm.jpg</td>\n",
       "    </tr>\n",
       "  </tbody>\n",
       "</table>\n",
       "</div>"
      ],
      "text/plain": [
       "                  timestamp contributor_username contributor_ip  \\\n",
       "0 2004-12-23 07:10:09+00:00               Sabbut            NaN   \n",
       "1 2004-12-23 07:14:09+00:00               Sabbut            NaN   \n",
       "2 2004-12-23 07:26:10+00:00               Sabbut            NaN   \n",
       "3 2004-12-23 07:55:09+00:00               Sanbec            NaN   \n",
       "4 2004-12-23 08:02:22+00:00               Sanbec            NaN   \n",
       "\n",
       "                                             comment logtype  action  \\\n",
       "0  el contenido era: 'Si aprendés Pensamiento Cie...  delete  delete   \n",
       "1  el contenido era: '{{destruir}}en algun lugar ...  delete  delete   \n",
       "2            el contenido era: '#REDIRECT [[Flash]]'  delete  delete   \n",
       "3  Sin información de origen ni de licencia. Hay ...  delete  delete   \n",
       "4  Sustituida por  [[commons:Image:Heckert_GNU.png]]  delete  delete   \n",
       "\n",
       "                     title  \n",
       "0         Verificacionismo  \n",
       "1                 Rapunzel  \n",
       "2         Macromedia Flash  \n",
       "3     Archivo:Gnu head.png  \n",
       "4  Archivo:Gnu-head-sm.jpg  "
      ]
     },
     "execution_count": 2,
     "metadata": {},
     "output_type": "execute_result"
    }
   ],
   "source": [
    "dfLog = pd.read_csv(\"../Dataset/logs.csv\",\n",
    "                    usecols = [\"timestamp\", \"contributor_username\", \"contributor_ip\", \"logtype\", \"action\", \"comment\", \"title\"],\n",
    "                    dtype = {\"logtype\": \"category\", \"action\": \"category\"},\n",
    "                    parse_dates = [\"timestamp\"])\n",
    "dfLog.head()"
   ]
  },
  {
   "cell_type": "code",
   "execution_count": 3,
   "id": "af8a2cbf-8856-4e88-8a18-ef17193f824f",
   "metadata": {},
   "outputs": [],
   "source": [
    "dfLog[\"contributor_username\"].fillna(dfLog[\"contributor_ip\"], inplace = True)"
   ]
  },
  {
   "cell_type": "markdown",
   "id": "79a90233-7362-43f0-a83e-5122609783bc",
   "metadata": {
    "tags": []
   },
   "source": [
    "#### Observe una muestra aleatoria de los comentarios de las acciones realizadas por usuarios o ips antes de ser bloqueados."
   ]
  },
  {
   "cell_type": "code",
   "execution_count": 4,
   "id": "9452bdc2-fae9-4014-980d-d86fe0b8e0e1",
   "metadata": {},
   "outputs": [
    {
     "data": {
      "text/html": [
       "<div>\n",
       "<style scoped>\n",
       "    .dataframe tbody tr th:only-of-type {\n",
       "        vertical-align: middle;\n",
       "    }\n",
       "\n",
       "    .dataframe tbody tr th {\n",
       "        vertical-align: top;\n",
       "    }\n",
       "\n",
       "    .dataframe thead th {\n",
       "        text-align: right;\n",
       "    }\n",
       "</style>\n",
       "<table border=\"1\" class=\"dataframe\">\n",
       "  <thead>\n",
       "    <tr style=\"text-align: right;\">\n",
       "      <th></th>\n",
       "      <th>timestamp</th>\n",
       "      <th>title</th>\n",
       "      <th>usuario_bloqueado</th>\n",
       "    </tr>\n",
       "  </thead>\n",
       "  <tbody>\n",
       "    <tr>\n",
       "      <th>5</th>\n",
       "      <td>2004-12-23 08:28:32+00:00</td>\n",
       "      <td>Usuario:212.55.30.157</td>\n",
       "      <td>212.55.30.157</td>\n",
       "    </tr>\n",
       "    <tr>\n",
       "      <th>287</th>\n",
       "      <td>2004-12-27 17:54:50+00:00</td>\n",
       "      <td>Usuario:201.241.228.15</td>\n",
       "      <td>201.241.228.15</td>\n",
       "    </tr>\n",
       "    <tr>\n",
       "      <th>288</th>\n",
       "      <td>2004-12-27 17:57:12+00:00</td>\n",
       "      <td>Usuario:201.255.50.32</td>\n",
       "      <td>201.255.50.32</td>\n",
       "    </tr>\n",
       "    <tr>\n",
       "      <th>290</th>\n",
       "      <td>2004-12-27 17:59:56+00:00</td>\n",
       "      <td>Usuario:84.122.0.158</td>\n",
       "      <td>84.122.0.158</td>\n",
       "    </tr>\n",
       "    <tr>\n",
       "      <th>313</th>\n",
       "      <td>2004-12-28 01:38:59+00:00</td>\n",
       "      <td>Usuario:81.192.12.93</td>\n",
       "      <td>81.192.12.93</td>\n",
       "    </tr>\n",
       "  </tbody>\n",
       "</table>\n",
       "</div>"
      ],
      "text/plain": [
       "                    timestamp                   title usuario_bloqueado\n",
       "5   2004-12-23 08:28:32+00:00   Usuario:212.55.30.157     212.55.30.157\n",
       "287 2004-12-27 17:54:50+00:00  Usuario:201.241.228.15    201.241.228.15\n",
       "288 2004-12-27 17:57:12+00:00   Usuario:201.255.50.32     201.255.50.32\n",
       "290 2004-12-27 17:59:56+00:00    Usuario:84.122.0.158      84.122.0.158\n",
       "313 2004-12-28 01:38:59+00:00    Usuario:81.192.12.93      81.192.12.93"
      ]
     },
     "execution_count": 4,
     "metadata": {},
     "output_type": "execute_result"
    }
   ],
   "source": [
    "dfBloqueos = dfLog.loc[(dfLog[\"logtype\"] == \"block\") & (dfLog[\"action\"] == \"block\"), [\"timestamp\", \"title\"]]\n",
    "dfBloqueos[\"usuario_bloqueado\"] = dfBloqueos[\"title\"].transform(lambda x: x.str[8:])\n",
    "dfBloqueos.head()"
   ]
  },
  {
   "cell_type": "code",
   "execution_count": 5,
   "id": "7deff0ab-a6b0-410b-b6f4-268ac5fc6d93",
   "metadata": {},
   "outputs": [
    {
     "data": {
      "text/html": [
       "<div>\n",
       "<style scoped>\n",
       "    .dataframe tbody tr th:only-of-type {\n",
       "        vertical-align: middle;\n",
       "    }\n",
       "\n",
       "    .dataframe tbody tr th {\n",
       "        vertical-align: top;\n",
       "    }\n",
       "\n",
       "    .dataframe thead th {\n",
       "        text-align: right;\n",
       "    }\n",
       "</style>\n",
       "<table border=\"1\" class=\"dataframe\">\n",
       "  <thead>\n",
       "    <tr style=\"text-align: right;\">\n",
       "      <th></th>\n",
       "      <th>timestamp_bloqueo</th>\n",
       "      <th>title</th>\n",
       "      <th>usuario_bloqueado</th>\n",
       "      <th>timestamp_accion</th>\n",
       "      <th>contributor_username</th>\n",
       "      <th>comment</th>\n",
       "    </tr>\n",
       "  </thead>\n",
       "  <tbody>\n",
       "    <tr>\n",
       "      <th>0</th>\n",
       "      <td>2005-01-11 00:41:48+00:00</td>\n",
       "      <td>Usuario:207.249.144.253</td>\n",
       "      <td>207.249.144.253</td>\n",
       "      <td>2018-10-31 01:02:10+00:00</td>\n",
       "      <td>207.249.144.253</td>\n",
       "      <td>Página creada con «Nacío un 18 de julio de 196...</td>\n",
       "    </tr>\n",
       "    <tr>\n",
       "      <th>1</th>\n",
       "      <td>2007-09-10 14:11:40+00:00</td>\n",
       "      <td>Usuario:207.249.144.253</td>\n",
       "      <td>207.249.144.253</td>\n",
       "      <td>2018-10-31 01:02:10+00:00</td>\n",
       "      <td>207.249.144.253</td>\n",
       "      <td>Página creada con «Nacío un 18 de julio de 196...</td>\n",
       "    </tr>\n",
       "    <tr>\n",
       "      <th>2</th>\n",
       "      <td>2008-01-15 15:15:20+00:00</td>\n",
       "      <td>Usuario:207.249.144.253</td>\n",
       "      <td>207.249.144.253</td>\n",
       "      <td>2018-10-31 01:02:10+00:00</td>\n",
       "      <td>207.249.144.253</td>\n",
       "      <td>Página creada con «Nacío un 18 de julio de 196...</td>\n",
       "    </tr>\n",
       "    <tr>\n",
       "      <th>3</th>\n",
       "      <td>2008-02-28 18:33:22+00:00</td>\n",
       "      <td>Usuario:207.249.144.253</td>\n",
       "      <td>207.249.144.253</td>\n",
       "      <td>2018-10-31 01:02:10+00:00</td>\n",
       "      <td>207.249.144.253</td>\n",
       "      <td>Página creada con «Nacío un 18 de julio de 196...</td>\n",
       "    </tr>\n",
       "    <tr>\n",
       "      <th>4</th>\n",
       "      <td>2008-09-30 13:18:48+00:00</td>\n",
       "      <td>Usuario:207.249.144.253</td>\n",
       "      <td>207.249.144.253</td>\n",
       "      <td>2018-10-31 01:02:10+00:00</td>\n",
       "      <td>207.249.144.253</td>\n",
       "      <td>Página creada con «Nacío un 18 de julio de 196...</td>\n",
       "    </tr>\n",
       "  </tbody>\n",
       "</table>\n",
       "</div>"
      ],
      "text/plain": [
       "          timestamp_bloqueo                    title usuario_bloqueado  \\\n",
       "0 2005-01-11 00:41:48+00:00  Usuario:207.249.144.253   207.249.144.253   \n",
       "1 2007-09-10 14:11:40+00:00  Usuario:207.249.144.253   207.249.144.253   \n",
       "2 2008-01-15 15:15:20+00:00  Usuario:207.249.144.253   207.249.144.253   \n",
       "3 2008-02-28 18:33:22+00:00  Usuario:207.249.144.253   207.249.144.253   \n",
       "4 2008-09-30 13:18:48+00:00  Usuario:207.249.144.253   207.249.144.253   \n",
       "\n",
       "           timestamp_accion contributor_username  \\\n",
       "0 2018-10-31 01:02:10+00:00      207.249.144.253   \n",
       "1 2018-10-31 01:02:10+00:00      207.249.144.253   \n",
       "2 2018-10-31 01:02:10+00:00      207.249.144.253   \n",
       "3 2018-10-31 01:02:10+00:00      207.249.144.253   \n",
       "4 2018-10-31 01:02:10+00:00      207.249.144.253   \n",
       "\n",
       "                                             comment  \n",
       "0  Página creada con «Nacío un 18 de julio de 196...  \n",
       "1  Página creada con «Nacío un 18 de julio de 196...  \n",
       "2  Página creada con «Nacío un 18 de julio de 196...  \n",
       "3  Página creada con «Nacío un 18 de julio de 196...  \n",
       "4  Página creada con «Nacío un 18 de julio de 196...  "
      ]
     },
     "execution_count": 5,
     "metadata": {},
     "output_type": "execute_result"
    }
   ],
   "source": [
    "dfAccionesPorBloqueados = dfBloqueos.merge(dfLog[[\"timestamp\", \"contributor_username\", \"comment\"]],\n",
    "                                           left_on = \"usuario_bloqueado\",\n",
    "                                           right_on = \"contributor_username\",\n",
    "                                           suffixes = [\"_bloqueo\", \"_accion\"])\n",
    "dfAccionesPorBloqueados.head()"
   ]
  },
  {
   "cell_type": "code",
   "execution_count": 6,
   "id": "1c82f8e5-a4a6-4430-bd4d-15086fd037cc",
   "metadata": {},
   "outputs": [
    {
     "data": {
      "text/plain": [
       "1226087                Porque PPD/PSD es su nombre completo.\n",
       "3968302                                                  NaN\n",
       "239516                                                   NaN\n",
       "3804071    Seria mucho Mejor respetando las reglas de ort...\n",
       "220016                                                   NaN\n",
       "4834226    Notificación sobre referencias alteradas que n...\n",
       "2103783    el contenido era: «#REDIRECT [[Plantilla:Malos...\n",
       "2102155    el contenido era: «#redirect [[Plantilla:Toolt...\n",
       "4804601    Notificación sobre referencias alteradas que n...\n",
       "4730631    Notificación sobre referencias alteradas que n...\n",
       "Name: comment, dtype: object"
      ]
     },
     "execution_count": 6,
     "metadata": {},
     "output_type": "execute_result"
    }
   ],
   "source": [
    "dfAccionesPorBloqueados.loc[dfAccionesPorBloqueados[\"timestamp_accion\"] < dfAccionesPorBloqueados[\"timestamp_bloqueo\"], \"comment\"].sample(10)"
   ]
  },
  {
   "cell_type": "markdown",
   "id": "6e5548ec-b07f-4eb8-b1bf-8a2e70676681",
   "metadata": {
    "tags": []
   },
   "source": [
    "#### Observe otra muestra de comentarios de acciones de todos."
   ]
  },
  {
   "cell_type": "code",
   "execution_count": 7,
   "id": "030fb652-5cba-4251-ae3c-03987d83f099",
   "metadata": {},
   "outputs": [
    {
     "data": {
      "text/plain": [
       "3070877     borrado rápido usando [[w:es:User:Axxgreazz/Mo...\n",
       "1635832     [[WP:BR|Redirección por traslado]]: el conteni...\n",
       "11565874    Artículo creado con el [[WP:ACA|#Asistentedear...\n",
       "7704594                                                   NaN\n",
       "2015157                                                   NaN\n",
       "8448877                                                   NaN\n",
       "10744535                                                  NaN\n",
       "2846417     borrado rápido usando [[w:es:User:Axxgreazz/Mo...\n",
       "11835018                           Creación de artículo nuevo\n",
       "81404       el contenido era: «Ü» (único autor: 194.179.10...\n",
       "Name: comment, dtype: object"
      ]
     },
     "execution_count": 7,
     "metadata": {},
     "output_type": "execute_result"
    }
   ],
   "source": [
    "dfLog[\"comment\"].sample(10)"
   ]
  }
 ],
 "metadata": {
  "kernelspec": {
   "display_name": "Python 3",
   "language": "python",
   "name": "python3"
  },
  "language_info": {
   "codemirror_mode": {
    "name": "ipython",
    "version": 3
   },
   "file_extension": ".py",
   "mimetype": "text/x-python",
   "name": "python",
   "nbconvert_exporter": "python",
   "pygments_lexer": "ipython3",
   "version": "3.6.9"
  }
 },
 "nbformat": 4,
 "nbformat_minor": 5
}
