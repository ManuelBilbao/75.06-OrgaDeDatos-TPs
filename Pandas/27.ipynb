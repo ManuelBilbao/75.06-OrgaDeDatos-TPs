{
 "cells": [
  {
   "cell_type": "markdown",
   "id": "0fb36de9-2773-4a2c-a550-fc5e45a7fd18",
   "metadata": {
    "tags": []
   },
   "source": [
    "### 27. ¿Cuál es el mínimo que ha durado desde su registro un usuario bloqueado en la plataforma? (⭐⭐)"
   ]
  },
  {
   "cell_type": "code",
   "execution_count": 1,
   "id": "9e2efaba-9fa7-4928-99ef-ab6c916b749d",
   "metadata": {},
   "outputs": [],
   "source": [
    "import pandas as pd\n",
    "import numpy as np\n",
    "from datetime import timedelta"
   ]
  },
  {
   "cell_type": "code",
   "execution_count": 3,
   "id": "f1a4d37c-a5c2-4392-ab7f-bf1ca0d46c44",
   "metadata": {},
   "outputs": [
    {
     "data": {
      "text/html": [
       "<div>\n",
       "<style scoped>\n",
       "    .dataframe tbody tr th:only-of-type {\n",
       "        vertical-align: middle;\n",
       "    }\n",
       "\n",
       "    .dataframe tbody tr th {\n",
       "        vertical-align: top;\n",
       "    }\n",
       "\n",
       "    .dataframe thead th {\n",
       "        text-align: right;\n",
       "    }\n",
       "</style>\n",
       "<table border=\"1\" class=\"dataframe\">\n",
       "  <thead>\n",
       "    <tr style=\"text-align: right;\">\n",
       "      <th></th>\n",
       "      <th>timestamp</th>\n",
       "      <th>logtype</th>\n",
       "      <th>action</th>\n",
       "      <th>title</th>\n",
       "    </tr>\n",
       "  </thead>\n",
       "  <tbody>\n",
       "    <tr>\n",
       "      <th>0</th>\n",
       "      <td>2004-12-23 07:10:09+00:00</td>\n",
       "      <td>delete</td>\n",
       "      <td>delete</td>\n",
       "      <td>Verificacionismo</td>\n",
       "    </tr>\n",
       "    <tr>\n",
       "      <th>1</th>\n",
       "      <td>2004-12-23 07:14:09+00:00</td>\n",
       "      <td>delete</td>\n",
       "      <td>delete</td>\n",
       "      <td>Rapunzel</td>\n",
       "    </tr>\n",
       "    <tr>\n",
       "      <th>2</th>\n",
       "      <td>2004-12-23 07:26:10+00:00</td>\n",
       "      <td>delete</td>\n",
       "      <td>delete</td>\n",
       "      <td>Macromedia Flash</td>\n",
       "    </tr>\n",
       "    <tr>\n",
       "      <th>3</th>\n",
       "      <td>2004-12-23 07:55:09+00:00</td>\n",
       "      <td>delete</td>\n",
       "      <td>delete</td>\n",
       "      <td>Archivo:Gnu head.png</td>\n",
       "    </tr>\n",
       "    <tr>\n",
       "      <th>4</th>\n",
       "      <td>2004-12-23 08:02:22+00:00</td>\n",
       "      <td>delete</td>\n",
       "      <td>delete</td>\n",
       "      <td>Archivo:Gnu-head-sm.jpg</td>\n",
       "    </tr>\n",
       "  </tbody>\n",
       "</table>\n",
       "</div>"
      ],
      "text/plain": [
       "                  timestamp logtype  action                    title\n",
       "0 2004-12-23 07:10:09+00:00  delete  delete         Verificacionismo\n",
       "1 2004-12-23 07:14:09+00:00  delete  delete                 Rapunzel\n",
       "2 2004-12-23 07:26:10+00:00  delete  delete         Macromedia Flash\n",
       "3 2004-12-23 07:55:09+00:00  delete  delete     Archivo:Gnu head.png\n",
       "4 2004-12-23 08:02:22+00:00  delete  delete  Archivo:Gnu-head-sm.jpg"
      ]
     },
     "execution_count": 3,
     "metadata": {},
     "output_type": "execute_result"
    }
   ],
   "source": [
    "dfLogs = pd.read_csv(\"../Dataset/logs.csv\",\n",
    "                     usecols = [\"timestamp\", \"logtype\", \"action\", \"title\"],\n",
    "                     dtype = {\"logtype\": \"category\", \"action\": \"category\"},\n",
    "                     parse_dates = [\"timestamp\"])\n",
    "dfLogs.head()"
   ]
  },
  {
   "cell_type": "code",
   "execution_count": 4,
   "id": "553563e7-4934-4c70-9782-fab237d9b714",
   "metadata": {},
   "outputs": [
    {
     "data": {
      "text/html": [
       "<div>\n",
       "<style scoped>\n",
       "    .dataframe tbody tr th:only-of-type {\n",
       "        vertical-align: middle;\n",
       "    }\n",
       "\n",
       "    .dataframe tbody tr th {\n",
       "        vertical-align: top;\n",
       "    }\n",
       "\n",
       "    .dataframe thead th {\n",
       "        text-align: right;\n",
       "    }\n",
       "</style>\n",
       "<table border=\"1\" class=\"dataframe\">\n",
       "  <thead>\n",
       "    <tr style=\"text-align: right;\">\n",
       "      <th></th>\n",
       "      <th>title</th>\n",
       "      <th>timestamp</th>\n",
       "    </tr>\n",
       "  </thead>\n",
       "  <tbody>\n",
       "    <tr>\n",
       "      <th>0</th>\n",
       "      <td>Usuario:! ! ! ! ! ! ! ! ! ! ! ! ! ! HAGGEⓇ? 123</td>\n",
       "      <td>2013-03-24 07:12:49+00:00</td>\n",
       "    </tr>\n",
       "    <tr>\n",
       "      <th>1</th>\n",
       "      <td>Usuario:!! !!ПОМОГИТЕ СЕСТРЕ НА ОПЕРАЦИЮ!! !!</td>\n",
       "      <td>2017-11-16 17:22:09+00:00</td>\n",
       "    </tr>\n",
       "    <tr>\n",
       "      <th>2</th>\n",
       "      <td>Usuario:!\"·$%&amp;</td>\n",
       "      <td>2012-01-04 02:51:53+00:00</td>\n",
       "    </tr>\n",
       "    <tr>\n",
       "      <th>3</th>\n",
       "      <td>Usuario:!23455666A!wee</td>\n",
       "      <td>2020-05-29 09:34:26+00:00</td>\n",
       "    </tr>\n",
       "    <tr>\n",
       "      <th>4</th>\n",
       "      <td>Usuario:!2o%Uv6PHBj6JfgYmfgqVx!SCEBEP4</td>\n",
       "      <td>2020-05-13 17:40:04+00:00</td>\n",
       "    </tr>\n",
       "  </tbody>\n",
       "</table>\n",
       "</div>"
      ],
      "text/plain": [
       "                                             title                 timestamp\n",
       "0  Usuario:! ! ! ! ! ! ! ! ! ! ! ! ! ! HAGGEⓇ? 123 2013-03-24 07:12:49+00:00\n",
       "1    Usuario:!! !!ПОМОГИТЕ СЕСТРЕ НА ОПЕРАЦИЮ!! !! 2017-11-16 17:22:09+00:00\n",
       "2                                   Usuario:!\"·$%& 2012-01-04 02:51:53+00:00\n",
       "3                           Usuario:!23455666A!wee 2020-05-29 09:34:26+00:00\n",
       "4           Usuario:!2o%Uv6PHBj6JfgYmfgqVx!SCEBEP4 2020-05-13 17:40:04+00:00"
      ]
     },
     "execution_count": 4,
     "metadata": {},
     "output_type": "execute_result"
    }
   ],
   "source": [
    "dfBlock = dfLogs.loc[(dfLogs[\"logtype\"] == \"block\") & (dfLogs[\"action\"] == \"block\")]\n",
    "dfBlock = dfBlock.groupby(\"title\").agg({\"timestamp\": \"min\"}).reset_index() # Me quedo con el primer bloqueo\n",
    "dfBlock.head()"
   ]
  },
  {
   "cell_type": "code",
   "execution_count": 5,
   "id": "d1d559b4-7315-4f71-bd95-312ce8945637",
   "metadata": {},
   "outputs": [
    {
     "data": {
      "text/html": [
       "<div>\n",
       "<style scoped>\n",
       "    .dataframe tbody tr th:only-of-type {\n",
       "        vertical-align: middle;\n",
       "    }\n",
       "\n",
       "    .dataframe tbody tr th {\n",
       "        vertical-align: top;\n",
       "    }\n",
       "\n",
       "    .dataframe thead th {\n",
       "        text-align: right;\n",
       "    }\n",
       "</style>\n",
       "<table border=\"1\" class=\"dataframe\">\n",
       "  <thead>\n",
       "    <tr style=\"text-align: right;\">\n",
       "      <th></th>\n",
       "      <th>title</th>\n",
       "      <th>timestamp</th>\n",
       "    </tr>\n",
       "  </thead>\n",
       "  <tbody>\n",
       "    <tr>\n",
       "      <th>0</th>\n",
       "      <td>Usuario:! DanSkammelsrod !</td>\n",
       "      <td>2006-12-28 17:07:56+00:00</td>\n",
       "    </tr>\n",
       "    <tr>\n",
       "      <th>1</th>\n",
       "      <td>Usuario:! Mostaza 79</td>\n",
       "      <td>2021-05-05 21:53:19+00:00</td>\n",
       "    </tr>\n",
       "    <tr>\n",
       "      <th>2</th>\n",
       "      <td>Usuario:! Soul07089</td>\n",
       "      <td>2021-08-26 12:25:26+00:00</td>\n",
       "    </tr>\n",
       "    <tr>\n",
       "      <th>3</th>\n",
       "      <td>Usuario:! x0ffDeseadaah</td>\n",
       "      <td>2021-03-15 00:44:03+00:00</td>\n",
       "    </tr>\n",
       "    <tr>\n",
       "      <th>4</th>\n",
       "      <td>Usuario:!! juan !! wuanchope !!</td>\n",
       "      <td>2016-03-17 02:42:47+00:00</td>\n",
       "    </tr>\n",
       "  </tbody>\n",
       "</table>\n",
       "</div>"
      ],
      "text/plain": [
       "                             title                 timestamp\n",
       "0       Usuario:! DanSkammelsrod ! 2006-12-28 17:07:56+00:00\n",
       "1             Usuario:! Mostaza 79 2021-05-05 21:53:19+00:00\n",
       "2              Usuario:! Soul07089 2021-08-26 12:25:26+00:00\n",
       "3          Usuario:! x0ffDeseadaah 2021-03-15 00:44:03+00:00\n",
       "4  Usuario:!! juan !! wuanchope !! 2016-03-17 02:42:47+00:00"
      ]
     },
     "execution_count": 5,
     "metadata": {},
     "output_type": "execute_result"
    }
   ],
   "source": [
    "dfNewUser = dfLogs[(dfLogs[\"logtype\"] == \"newusers\") & (dfLogs[\"action\"] == \"create\")]\n",
    "dfNewUser = dfNewUser.groupby(\"title\").agg({\"timestamp\": \"min\"}).reset_index() # Me quedo con el primer registro\n",
    "dfNewUser.head()"
   ]
  },
  {
   "cell_type": "code",
   "execution_count": 6,
   "id": "d1835316-234f-4532-a327-d475a30675c1",
   "metadata": {},
   "outputs": [
    {
     "data": {
      "text/html": [
       "<div>\n",
       "<style scoped>\n",
       "    .dataframe tbody tr th:only-of-type {\n",
       "        vertical-align: middle;\n",
       "    }\n",
       "\n",
       "    .dataframe tbody tr th {\n",
       "        vertical-align: top;\n",
       "    }\n",
       "\n",
       "    .dataframe thead th {\n",
       "        text-align: right;\n",
       "    }\n",
       "</style>\n",
       "<table border=\"1\" class=\"dataframe\">\n",
       "  <thead>\n",
       "    <tr style=\"text-align: right;\">\n",
       "      <th></th>\n",
       "      <th>title</th>\n",
       "      <th>timestamp_create</th>\n",
       "      <th>timestamp_block</th>\n",
       "    </tr>\n",
       "  </thead>\n",
       "  <tbody>\n",
       "    <tr>\n",
       "      <th>0</th>\n",
       "      <td>Usuario:!\"·$%&amp;</td>\n",
       "      <td>2008-08-21 22:56:10+00:00</td>\n",
       "      <td>2012-01-04 02:51:53+00:00</td>\n",
       "    </tr>\n",
       "    <tr>\n",
       "      <th>1</th>\n",
       "      <td>Usuario:!Maritzadechile!</td>\n",
       "      <td>2012-06-27 20:56:20+00:00</td>\n",
       "      <td>2012-08-04 14:43:47+00:00</td>\n",
       "    </tr>\n",
       "    <tr>\n",
       "      <th>2</th>\n",
       "      <td>Usuario:!Noticias K-pop Informa!</td>\n",
       "      <td>2020-12-16 00:54:45+00:00</td>\n",
       "      <td>2021-03-01 01:31:13+00:00</td>\n",
       "    </tr>\n",
       "    <tr>\n",
       "      <th>3</th>\n",
       "      <td>Usuario:!asesinoflow!!</td>\n",
       "      <td>2013-10-26 17:18:27+00:00</td>\n",
       "      <td>2019-10-06 15:19:58+00:00</td>\n",
       "    </tr>\n",
       "    <tr>\n",
       "      <th>4</th>\n",
       "      <td>Usuario:!emprendiciencia innovación social</td>\n",
       "      <td>2017-07-28 09:59:43+00:00</td>\n",
       "      <td>2020-05-26 14:36:42+00:00</td>\n",
       "    </tr>\n",
       "  </tbody>\n",
       "</table>\n",
       "</div>"
      ],
      "text/plain": [
       "                                        title          timestamp_create  \\\n",
       "0                              Usuario:!\"·$%& 2008-08-21 22:56:10+00:00   \n",
       "1                    Usuario:!Maritzadechile! 2012-06-27 20:56:20+00:00   \n",
       "2            Usuario:!Noticias K-pop Informa! 2020-12-16 00:54:45+00:00   \n",
       "3                      Usuario:!asesinoflow!! 2013-10-26 17:18:27+00:00   \n",
       "4  Usuario:!emprendiciencia innovación social 2017-07-28 09:59:43+00:00   \n",
       "\n",
       "            timestamp_block  \n",
       "0 2012-01-04 02:51:53+00:00  \n",
       "1 2012-08-04 14:43:47+00:00  \n",
       "2 2021-03-01 01:31:13+00:00  \n",
       "3 2019-10-06 15:19:58+00:00  \n",
       "4 2020-05-26 14:36:42+00:00  "
      ]
     },
     "execution_count": 6,
     "metadata": {},
     "output_type": "execute_result"
    }
   ],
   "source": [
    "dfMerged = dfNewUser[[\"title\", \"timestamp\"]].merge(dfBlock[[\"timestamp\", \"title\"]],\n",
    "                                                   on = \"title\",\n",
    "                                                   suffixes = (\"_create\", \"_block\"))\n",
    "dfMerged.head()"
   ]
  },
  {
   "cell_type": "code",
   "execution_count": 7,
   "id": "1ef26310-e407-4ee2-97fd-5e16e7f96339",
   "metadata": {},
   "outputs": [
    {
     "data": {
      "text/html": [
       "<div>\n",
       "<style scoped>\n",
       "    .dataframe tbody tr th:only-of-type {\n",
       "        vertical-align: middle;\n",
       "    }\n",
       "\n",
       "    .dataframe tbody tr th {\n",
       "        vertical-align: top;\n",
       "    }\n",
       "\n",
       "    .dataframe thead th {\n",
       "        text-align: right;\n",
       "    }\n",
       "</style>\n",
       "<table border=\"1\" class=\"dataframe\">\n",
       "  <thead>\n",
       "    <tr style=\"text-align: right;\">\n",
       "      <th></th>\n",
       "      <th>title</th>\n",
       "      <th>timestamp_create</th>\n",
       "      <th>timestamp_block</th>\n",
       "      <th>diferencia</th>\n",
       "    </tr>\n",
       "  </thead>\n",
       "  <tbody>\n",
       "    <tr>\n",
       "      <th>0</th>\n",
       "      <td>Usuario:!\"·$%&amp;</td>\n",
       "      <td>2008-08-21 22:56:10+00:00</td>\n",
       "      <td>2012-01-04 02:51:53+00:00</td>\n",
       "      <td>1230 days 03:55:43</td>\n",
       "    </tr>\n",
       "    <tr>\n",
       "      <th>1</th>\n",
       "      <td>Usuario:!Maritzadechile!</td>\n",
       "      <td>2012-06-27 20:56:20+00:00</td>\n",
       "      <td>2012-08-04 14:43:47+00:00</td>\n",
       "      <td>37 days 17:47:27</td>\n",
       "    </tr>\n",
       "    <tr>\n",
       "      <th>2</th>\n",
       "      <td>Usuario:!Noticias K-pop Informa!</td>\n",
       "      <td>2020-12-16 00:54:45+00:00</td>\n",
       "      <td>2021-03-01 01:31:13+00:00</td>\n",
       "      <td>75 days 00:36:28</td>\n",
       "    </tr>\n",
       "    <tr>\n",
       "      <th>3</th>\n",
       "      <td>Usuario:!asesinoflow!!</td>\n",
       "      <td>2013-10-26 17:18:27+00:00</td>\n",
       "      <td>2019-10-06 15:19:58+00:00</td>\n",
       "      <td>2170 days 22:01:31</td>\n",
       "    </tr>\n",
       "    <tr>\n",
       "      <th>4</th>\n",
       "      <td>Usuario:!emprendiciencia innovación social</td>\n",
       "      <td>2017-07-28 09:59:43+00:00</td>\n",
       "      <td>2020-05-26 14:36:42+00:00</td>\n",
       "      <td>1033 days 04:36:59</td>\n",
       "    </tr>\n",
       "  </tbody>\n",
       "</table>\n",
       "</div>"
      ],
      "text/plain": [
       "                                        title          timestamp_create  \\\n",
       "0                              Usuario:!\"·$%& 2008-08-21 22:56:10+00:00   \n",
       "1                    Usuario:!Maritzadechile! 2012-06-27 20:56:20+00:00   \n",
       "2            Usuario:!Noticias K-pop Informa! 2020-12-16 00:54:45+00:00   \n",
       "3                      Usuario:!asesinoflow!! 2013-10-26 17:18:27+00:00   \n",
       "4  Usuario:!emprendiciencia innovación social 2017-07-28 09:59:43+00:00   \n",
       "\n",
       "            timestamp_block         diferencia  \n",
       "0 2012-01-04 02:51:53+00:00 1230 days 03:55:43  \n",
       "1 2012-08-04 14:43:47+00:00   37 days 17:47:27  \n",
       "2 2021-03-01 01:31:13+00:00   75 days 00:36:28  \n",
       "3 2019-10-06 15:19:58+00:00 2170 days 22:01:31  \n",
       "4 2020-05-26 14:36:42+00:00 1033 days 04:36:59  "
      ]
     },
     "execution_count": 7,
     "metadata": {},
     "output_type": "execute_result"
    }
   ],
   "source": [
    "dfMerged[\"diferencia\"] = dfMerged[\"timestamp_block\"] - dfMerged[\"timestamp_create\"]\n",
    "dfMerged.head()"
   ]
  },
  {
   "cell_type": "code",
   "execution_count": 8,
   "id": "b63e3d40-863d-45f0-827d-0641f73c95d8",
   "metadata": {},
   "outputs": [
    {
     "data": {
      "text/plain": [
       "Timedelta('0 days 00:00:04')"
      ]
     },
     "execution_count": 8,
     "metadata": {},
     "output_type": "execute_result"
    }
   ],
   "source": [
    "# Hay incoherencias donde se bloquea a un usuario antes de que se registre.\n",
    "# Se omiten esos valores\n",
    "dfMerged[dfMerged[\"diferencia\"] >= timedelta(0)].nsmallest(1, \"diferencia\").iloc[0].diferencia"
   ]
  }
 ],
 "metadata": {
  "kernelspec": {
   "display_name": "Python 3",
   "language": "python",
   "name": "python3"
  },
  "language_info": {
   "codemirror_mode": {
    "name": "ipython",
    "version": 3
   },
   "file_extension": ".py",
   "mimetype": "text/x-python",
   "name": "python",
   "nbconvert_exporter": "python",
   "pygments_lexer": "ipython3",
   "version": "3.6.9"
  }
 },
 "nbformat": 4,
 "nbformat_minor": 5
}
