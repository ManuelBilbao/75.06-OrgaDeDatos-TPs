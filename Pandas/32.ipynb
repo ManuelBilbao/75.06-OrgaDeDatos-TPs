{
 "cells": [
  {
   "cell_type": "markdown",
   "id": "46aa1628-f954-424f-9756-330241322283",
   "metadata": {},
   "source": [
    "### 32. El usuario que más agradece y el que más agradecimientos tiene (⭐)"
   ]
  },
  {
   "cell_type": "code",
   "execution_count": 1,
   "id": "e6512d52-54f0-45a5-8da2-404ce7bef76f",
   "metadata": {},
   "outputs": [],
   "source": [
    "import numpy as np\n",
    "import pandas as pd"
   ]
  },
  {
   "cell_type": "code",
   "execution_count": 2,
   "id": "9f5b6484-f5f0-438e-b9fd-3816edf74a38",
   "metadata": {},
   "outputs": [
    {
     "name": "stderr",
     "output_type": "stream",
     "text": [
      "/home/manu/Documentos/Facultad/Datos/2021B/venv/lib/python3.6/site-packages/IPython/core/interactiveshell.py:3072: DtypeWarning: Columns (4) have mixed types.Specify dtype option on import or set low_memory=False.\n",
      "  interactivity=interactivity, compiler=compiler, result=result)\n"
     ]
    },
    {
     "data": {
      "text/html": [
       "<div>\n",
       "<style scoped>\n",
       "    .dataframe tbody tr th:only-of-type {\n",
       "        vertical-align: middle;\n",
       "    }\n",
       "\n",
       "    .dataframe tbody tr th {\n",
       "        vertical-align: top;\n",
       "    }\n",
       "\n",
       "    .dataframe thead th {\n",
       "        text-align: right;\n",
       "    }\n",
       "</style>\n",
       "<table border=\"1\" class=\"dataframe\">\n",
       "  <thead>\n",
       "    <tr style=\"text-align: right;\">\n",
       "      <th></th>\n",
       "      <th>contributor_username</th>\n",
       "      <th>contributor_ip</th>\n",
       "      <th>logtype</th>\n",
       "      <th>action</th>\n",
       "      <th>title</th>\n",
       "    </tr>\n",
       "  </thead>\n",
       "  <tbody>\n",
       "    <tr>\n",
       "      <th>0</th>\n",
       "      <td>Sabbut</td>\n",
       "      <td>NaN</td>\n",
       "      <td>delete</td>\n",
       "      <td>delete</td>\n",
       "      <td>Verificacionismo</td>\n",
       "    </tr>\n",
       "    <tr>\n",
       "      <th>1</th>\n",
       "      <td>Sabbut</td>\n",
       "      <td>NaN</td>\n",
       "      <td>delete</td>\n",
       "      <td>delete</td>\n",
       "      <td>Rapunzel</td>\n",
       "    </tr>\n",
       "    <tr>\n",
       "      <th>2</th>\n",
       "      <td>Sabbut</td>\n",
       "      <td>NaN</td>\n",
       "      <td>delete</td>\n",
       "      <td>delete</td>\n",
       "      <td>Macromedia Flash</td>\n",
       "    </tr>\n",
       "    <tr>\n",
       "      <th>3</th>\n",
       "      <td>Sanbec</td>\n",
       "      <td>NaN</td>\n",
       "      <td>delete</td>\n",
       "      <td>delete</td>\n",
       "      <td>Archivo:Gnu head.png</td>\n",
       "    </tr>\n",
       "    <tr>\n",
       "      <th>4</th>\n",
       "      <td>Sanbec</td>\n",
       "      <td>NaN</td>\n",
       "      <td>delete</td>\n",
       "      <td>delete</td>\n",
       "      <td>Archivo:Gnu-head-sm.jpg</td>\n",
       "    </tr>\n",
       "  </tbody>\n",
       "</table>\n",
       "</div>"
      ],
      "text/plain": [
       "  contributor_username contributor_ip logtype  action                    title\n",
       "0               Sabbut            NaN  delete  delete         Verificacionismo\n",
       "1               Sabbut            NaN  delete  delete                 Rapunzel\n",
       "2               Sabbut            NaN  delete  delete         Macromedia Flash\n",
       "3               Sanbec            NaN  delete  delete     Archivo:Gnu head.png\n",
       "4               Sanbec            NaN  delete  delete  Archivo:Gnu-head-sm.jpg"
      ]
     },
     "execution_count": 2,
     "metadata": {},
     "output_type": "execute_result"
    }
   ],
   "source": [
    "dfLogs = pd.read_csv(\"../Dataset/logs.csv\",\n",
    "                     usecols = [\"logtype\", \"action\", \"contributor_username\", \"contributor_ip\", \"title\"],\n",
    "                     dtype = {\"logtype\": \"category\", \"action\": \"category\"})\n",
    "dfLogs.head()"
   ]
  },
  {
   "cell_type": "code",
   "execution_count": 12,
   "id": "8f7f4baf-ecd3-431d-adad-e950a2a9eb14",
   "metadata": {},
   "outputs": [],
   "source": [
    "dfLogs[\"contributor_username\"].fillna(dfLogs[\"contributor_ip\"], inplace = True)"
   ]
  },
  {
   "cell_type": "code",
   "execution_count": 13,
   "id": "728b33a7-509a-4169-aa08-02253658cc01",
   "metadata": {},
   "outputs": [
    {
     "data": {
      "text/html": [
       "<div>\n",
       "<style scoped>\n",
       "    .dataframe tbody tr th:only-of-type {\n",
       "        vertical-align: middle;\n",
       "    }\n",
       "\n",
       "    .dataframe tbody tr th {\n",
       "        vertical-align: top;\n",
       "    }\n",
       "\n",
       "    .dataframe thead th {\n",
       "        text-align: right;\n",
       "    }\n",
       "</style>\n",
       "<table border=\"1\" class=\"dataframe\">\n",
       "  <thead>\n",
       "    <tr style=\"text-align: right;\">\n",
       "      <th></th>\n",
       "      <th>contributor_username</th>\n",
       "      <th>contributor_ip</th>\n",
       "      <th>logtype</th>\n",
       "      <th>action</th>\n",
       "      <th>title</th>\n",
       "    </tr>\n",
       "  </thead>\n",
       "  <tbody>\n",
       "    <tr>\n",
       "      <th>5089429</th>\n",
       "      <td>Anonyme Wikipe-tan</td>\n",
       "      <td>NaN</td>\n",
       "      <td>thanks</td>\n",
       "      <td>thank</td>\n",
       "      <td>Usuario:Isha</td>\n",
       "    </tr>\n",
       "    <tr>\n",
       "      <th>5089430</th>\n",
       "      <td>Anonyme Wikipe-tan</td>\n",
       "      <td>NaN</td>\n",
       "      <td>thanks</td>\n",
       "      <td>thank</td>\n",
       "      <td>Usuario:Osado</td>\n",
       "    </tr>\n",
       "    <tr>\n",
       "      <th>5089443</th>\n",
       "      <td>Fabrice Florin (WMF)</td>\n",
       "      <td>NaN</td>\n",
       "      <td>thanks</td>\n",
       "      <td>thank</td>\n",
       "      <td>Usuario:Fabrice Florin</td>\n",
       "    </tr>\n",
       "    <tr>\n",
       "      <th>5089554</th>\n",
       "      <td>David Steven</td>\n",
       "      <td>NaN</td>\n",
       "      <td>thanks</td>\n",
       "      <td>thank</td>\n",
       "      <td>Usuario:Sala Zero</td>\n",
       "    </tr>\n",
       "    <tr>\n",
       "      <th>5089560</th>\n",
       "      <td>Renly</td>\n",
       "      <td>NaN</td>\n",
       "      <td>thanks</td>\n",
       "      <td>thank</td>\n",
       "      <td>Usuario:StockZXD</td>\n",
       "    </tr>\n",
       "  </tbody>\n",
       "</table>\n",
       "</div>"
      ],
      "text/plain": [
       "         contributor_username contributor_ip logtype action  \\\n",
       "5089429    Anonyme Wikipe-tan            NaN  thanks  thank   \n",
       "5089430    Anonyme Wikipe-tan            NaN  thanks  thank   \n",
       "5089443  Fabrice Florin (WMF)            NaN  thanks  thank   \n",
       "5089554          David Steven            NaN  thanks  thank   \n",
       "5089560                 Renly            NaN  thanks  thank   \n",
       "\n",
       "                          title  \n",
       "5089429            Usuario:Isha  \n",
       "5089430           Usuario:Osado  \n",
       "5089443  Usuario:Fabrice Florin  \n",
       "5089554       Usuario:Sala Zero  \n",
       "5089560        Usuario:StockZXD  "
      ]
     },
     "execution_count": 13,
     "metadata": {},
     "output_type": "execute_result"
    }
   ],
   "source": [
    "dfThanks = dfLogs[dfLogs.logtype == \"thanks\"]\n",
    "dfThanks.head()"
   ]
  },
  {
   "cell_type": "markdown",
   "id": "c77ea577-8053-48b0-8a2d-3966073bf364",
   "metadata": {},
   "source": [
    "#### Usuario que más agradece"
   ]
  },
  {
   "cell_type": "code",
   "execution_count": 14,
   "id": "95860bcb-628e-4c64-ba74-b8b807d532f6",
   "metadata": {},
   "outputs": [
    {
     "data": {
      "text/plain": [
       "'Cacen Gymraeg'"
      ]
     },
     "execution_count": 14,
     "metadata": {},
     "output_type": "execute_result"
    }
   ],
   "source": [
    "dfThanks.groupby(\"contributor_username\").agg({\"action\": \"count\"}).reset_index().nlargest(1, \"action\").iloc[0][\"contributor_username\"]"
   ]
  },
  {
   "cell_type": "markdown",
   "id": "43d69b8a-a877-42df-9808-8978811cb4f4",
   "metadata": {},
   "source": [
    "#### Usuario que más agredecimientos tiene"
   ]
  },
  {
   "cell_type": "code",
   "execution_count": 15,
   "id": "bbbd8321-f7e0-4048-8883-2b4590d3b633",
   "metadata": {},
   "outputs": [
    {
     "data": {
      "text/plain": [
       "'Ontzak'"
      ]
     },
     "execution_count": 15,
     "metadata": {},
     "output_type": "execute_result"
    }
   ],
   "source": [
    "dfThanks.groupby(\"title\").agg({\"action\": \"count\"}).reset_index().nlargest(1, \"action\").iloc[0][\"title\"][8:]"
   ]
  }
 ],
 "metadata": {
  "kernelspec": {
   "display_name": "Python 3",
   "language": "python",
   "name": "python3"
  },
  "language_info": {
   "codemirror_mode": {
    "name": "ipython",
    "version": 3
   },
   "file_extension": ".py",
   "mimetype": "text/x-python",
   "name": "python",
   "nbconvert_exporter": "python",
   "pygments_lexer": "ipython3",
   "version": "3.6.9"
  }
 },
 "nbformat": 4,
 "nbformat_minor": 5
}
