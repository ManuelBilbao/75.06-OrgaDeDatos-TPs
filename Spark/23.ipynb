{
 "cells": [
  {
   "cell_type": "markdown",
   "id": "b09e9a07-2033-4cac-ae67-29d64acc421d",
   "metadata": {},
   "source": [
    "## 23. Cantidad total de contenidos por tipo de locación que pertenecen a la tierra. (⭐)"
   ]
  },
  {
   "cell_type": "code",
   "execution_count": 1,
   "id": "324c5f12-4e71-44d5-80c1-4640b1cd4abd",
   "metadata": {},
   "outputs": [],
   "source": [
    "from pyspark.sql import *\n",
    "from pyspark.sql.functions import *\n",
    "from pyspark import SparkContext\n",
    "from pyspark.sql import SQLContext"
   ]
  },
  {
   "cell_type": "code",
   "execution_count": 2,
   "id": "83829df8-8637-434d-a790-f4744c0139db",
   "metadata": {},
   "outputs": [],
   "source": [
    "spark = SparkSession.builder.getOrCreate()"
   ]
  },
  {
   "cell_type": "code",
   "execution_count": 3,
   "id": "44b52308-d8f8-4e78-97a7-de017b6a2798",
   "metadata": {},
   "outputs": [
    {
     "data": {
      "text/plain": [
       "[Row(gt_id='136574799', gt_page_id='8667', gt_globe='earth', gt_primary='0', gt_lat='-52.96666667', gt_lon='-59.26666667', gt_dim='1000', gt_type=None, gt_name=None, gt_country=None, gt_region=None),\n",
       " Row(gt_id='135602636', gt_page_id='7421943', gt_globe='earth', gt_primary='0', gt_lat='40.4202991', gt_lon='-3.7034722', gt_dim='1000', gt_type=None, gt_name=None, gt_country=None, gt_region=None),\n",
       " Row(gt_id='136467598', gt_page_id='4711247', gt_globe='earth', gt_primary='1', gt_lat='37.5036', gt_lon='-92.225', gt_dim='10000', gt_type='city', gt_name=None, gt_country=None, gt_region=None),\n",
       " Row(gt_id='136506418', gt_page_id='4771791', gt_globe='earth', gt_primary='1', gt_lat='41.38638889', gt_lon='-86.645', gt_dim='10000', gt_type='city', gt_name=None, gt_country=None, gt_region=None),\n",
       " Row(gt_id='135800028', gt_page_id='1239511', gt_globe='earth', gt_primary='0', gt_lat='42.54222222', gt_lon='-1.29805556', gt_dim='10000', gt_type='city', gt_name=None, gt_country=None, gt_region=None)]"
      ]
     },
     "execution_count": 3,
     "metadata": {},
     "output_type": "execute_result"
    }
   ],
   "source": [
    "rdd = spark.read.csv(\"../Dataset/geo_tags.csv\", header = True).rdd\n",
    "rdd.takeSample(False, 5)"
   ]
  },
  {
   "cell_type": "code",
   "execution_count": 4,
   "id": "f5be20c9-d0e0-4dcf-95f8-ee3dc1d2fb5b",
   "metadata": {},
   "outputs": [
    {
     "data": {
      "text/plain": [
       "[(None, 106501),\n",
       " ('bridge', 1136),\n",
       " ('edu', 3151),\n",
       " ('landscape', 38),\n",
       " ('mosque', 1),\n",
       " ('mountain', 4895),\n",
       " ('adm3rd', 271),\n",
       " ('region:usa', 21),\n",
       " ('nationalpark', 1),\n",
       " ('church', 1),\n",
       " ('village', 1),\n",
       " ('landmark:region:de-bw', 1),\n",
       " ('glacier', 319),\n",
       " ('adm1st', 315),\n",
       " ('state', 7),\n",
       " ('type:landmark', 1),\n",
       " ('title', 3),\n",
       " ('monument', 1),\n",
       " ('señal', 1),\n",
       " ('adm2', 4),\n",
       " ('buildings', 1),\n",
       " ('site', 1),\n",
       " ('isle', 6264),\n",
       " ('isle:', 1),\n",
       " ('forest', 24),\n",
       " ('reservoir', 1),\n",
       " ('town', 3),\n",
       " ('lago', 67),\n",
       " ('landmarkl', 132),\n",
       " ('embalse', 1),\n",
       " ('inline', 1),\n",
       " ('organization', 3),\n",
       " ('location', 1),\n",
       " ('municipio', 1),\n",
       " ('landmarkt', 1),\n",
       " ('landamrk', 1),\n",
       " ('airport', 4638),\n",
       " ('adm2nd', 334),\n",
       " ('forrest', 9562),\n",
       " ('railwaystation', 10681),\n",
       " ('country', 3358),\n",
       " ('region', 11),\n",
       " ('isle(120', 1),\n",
       " ('tain', 1),\n",
       " ('waterbodyy', 1),\n",
       " ('satellite', 1),\n",
       " ('city', 297603),\n",
       " ('waterbody', 2421),\n",
       " ('isle(301', 1),\n",
       " ('waterfall', 1),\n",
       " ('port', 2),\n",
       " ('dam', 2),\n",
       " ('landmarka', 7),\n",
       " ('isle(1063', 1),\n",
       " ('spaceport', 1),\n",
       " ('bay', 1),\n",
       " ('landmark', 98942),\n",
       " ('event', 5211),\n",
       " ('pass', 10),\n",
       " ('nunatak', 1),\n",
       " ('region:us', 184),\n",
       " ('montaña', 1),\n",
       " ('mountain/it-bz/it-bl', 1),\n",
       " ('mountain/it-bl', 3),\n",
       " ('building', 34),\n",
       " ('river', 189),\n",
       " ('island', 12),\n",
       " ('reef', 1),\n",
       " ('tunnel', 1),\n",
       " ('landmarkc', 1),\n",
       " ('place', 1),\n",
       " ('landmar', 1),\n",
       " ('plane', 1)]"
      ]
     },
     "execution_count": 4,
     "metadata": {},
     "output_type": "execute_result"
    }
   ],
   "source": [
    "rdd.map(lambda x: (x[\"gt_type\"], 1)).reduceByKey(lambda a, b: a + b).collect()"
   ]
  }
 ],
 "metadata": {
  "kernelspec": {
   "display_name": "Python 3",
   "language": "python",
   "name": "python3"
  },
  "language_info": {
   "codemirror_mode": {
    "name": "ipython",
    "version": 3
   },
   "file_extension": ".py",
   "mimetype": "text/x-python",
   "name": "python",
   "nbconvert_exporter": "python",
   "pygments_lexer": "ipython3",
   "version": "3.6.9"
  }
 },
 "nbformat": 4,
 "nbformat_minor": 5
}
