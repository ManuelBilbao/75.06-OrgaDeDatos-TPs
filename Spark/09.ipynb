{
 "cells": [
  {
   "cell_type": "markdown",
   "id": "9893446c-0885-4872-9f7f-fdab30934326",
   "metadata": {},
   "source": [
    "## 09. Mostrar de forma eficiente el tercer trigrama que tiene mayor frecuencia en los títulos de los contenidos de la wikipedia (⭐⭐)"
   ]
  },
  {
   "cell_type": "code",
   "execution_count": 1,
   "id": "a6c877fe-6059-4b8e-8b74-922021e6cd94",
   "metadata": {},
   "outputs": [],
   "source": [
    "from pyspark.sql import *\n",
    "from pyspark.sql.functions import *\n",
    "from pyspark import SparkContext\n",
    "from pyspark.sql import SQLContext\n",
    "\n",
    "from nltk.util import trigrams"
   ]
  },
  {
   "cell_type": "code",
   "execution_count": 2,
   "id": "a297ce1a-2923-4276-9133-e3916d20bfc6",
   "metadata": {},
   "outputs": [],
   "source": [
    "spark = SparkSession.builder.getOrCreate()"
   ]
  },
  {
   "cell_type": "code",
   "execution_count": 3,
   "id": "afa2d703-70fd-4c94-835c-cb2decfdd1cb",
   "metadata": {},
   "outputs": [
    {
     "data": {
      "text/plain": [
       "[Row(title='Categoría:Ciclismo en Colombia en 2005', id='7636421', namespace='14', revision_id='104447435', parent_revision='100768130', revision_timestamp='2017-12-25T15:49:33Z', revisor_username='Mercenario97', revisor_id='226250', revisor_ip=None, revisor_comment=None),\n",
       " Row(title='Puertecitos', id='9311967', namespace='0', revision_id='137713120', parent_revision='137707595', revision_timestamp='2021-08-16T20:15:56Z', revisor_username='Chiko elektriko', revisor_id='635480', revisor_ip=None, revisor_comment='/* Geografía */'),\n",
       " Row(title='Seals and Crofts', id='4941234', namespace='0', revision_id='130219972', parent_revision='127859116', revision_timestamp='2020-10-20T16:57:32Z', revisor_username='NewAngus', revisor_id='4700836', revisor_ip=None, revisor_comment='algunos enlaces internos y comillas españolas'),\n",
       " Row(title='Palacio Real de Phnom Penh', id='5320942', namespace='0', revision_id='58322221', parent_revision=None, revision_timestamp='2012-07-28T13:04:16Z', revisor_username='Kordas', revisor_id='23834', revisor_ip=None, revisor_comment='Kordas movió la página [[Palacio Real de Phnom Penh]] a [[Palacio Real de Nom Pen]]: según nueva Ortografía'),\n",
       " Row(title='Amstel Gold Race 2001', id='7828407', namespace='0', revision_id='125567250', parent_revision='125567234', revision_timestamp='2020-04-27T21:32:01Z', revisor_username='Jekiwc', revisor_id='3962010', revisor_ip=None, revisor_comment=None)]"
      ]
     },
     "execution_count": 3,
     "metadata": {},
     "output_type": "execute_result"
    }
   ],
   "source": [
    "rdd = spark.read.csv(\"../Dataset/contents.csv\", header = True).rdd\n",
    "rdd.takeSample(False, 5)"
   ]
  },
  {
   "cell_type": "code",
   "execution_count": 4,
   "id": "4bfbb607-8b25-4591-8e73-07ac8034cbbc",
   "metadata": {},
   "outputs": [
    {
     "data": {
      "text/plain": [
       "'ego'"
      ]
     },
     "execution_count": 4,
     "metadata": {},
     "output_type": "execute_result"
    }
   ],
   "source": [
    "trigrama = rdd.filter(lambda x: x[\"title\"] != None)\\\n",
    "              .flatMap(lambda x: list(trigrams(x[\"title\"])))\\\n",
    "              .map(lambda x: (x, 1))\\\n",
    "              .reduceByKey(lambda a, b: a + b)\\\n",
    "              .takeOrdered(3, lambda x: -x[1])[2]\n",
    "\"\".join(trigrama[0])"
   ]
  }
 ],
 "metadata": {
  "kernelspec": {
   "display_name": "Python 3",
   "language": "python",
   "name": "python3"
  },
  "language_info": {
   "codemirror_mode": {
    "name": "ipython",
    "version": 3
   },
   "file_extension": ".py",
   "mimetype": "text/x-python",
   "name": "python",
   "nbconvert_exporter": "python",
   "pygments_lexer": "ipython3",
   "version": "3.6.9"
  }
 },
 "nbformat": 4,
 "nbformat_minor": 5
}
