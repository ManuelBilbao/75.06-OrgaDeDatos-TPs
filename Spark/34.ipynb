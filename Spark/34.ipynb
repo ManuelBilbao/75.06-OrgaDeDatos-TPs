{
 "cells": [
  {
   "cell_type": "markdown",
   "id": "c12c418c-84a2-4ed4-8d30-ee40940176ab",
   "metadata": {},
   "source": [
    "## 34. ¿Quién es el usuario que más ha bloqueado a otros? (⭐)"
   ]
  },
  {
   "cell_type": "code",
   "execution_count": 1,
   "id": "aaaa26a5-1231-4d47-bf73-613726568ca4",
   "metadata": {},
   "outputs": [],
   "source": [
    "from pyspark.sql import *\n",
    "from pyspark.sql.functions import *\n",
    "from pyspark import SparkContext\n",
    "from pyspark.sql import SQLContext"
   ]
  },
  {
   "cell_type": "code",
   "execution_count": 2,
   "id": "15e7b6f5-4062-49db-aa86-bfdb0c4ccc77",
   "metadata": {},
   "outputs": [],
   "source": [
    "spark = SparkSession.builder.getOrCreate()"
   ]
  },
  {
   "cell_type": "code",
   "execution_count": 3,
   "id": "b7b6c187-1b42-414b-81db-c2630aa47873",
   "metadata": {},
   "outputs": [
    {
     "data": {
      "text/plain": [
       "[Row(item_id=4995893, timestamp='2011-09-01T21:19:16Z', contributor_username='Inquisidor X', contributor_id=1931697.0, contributor_ip=None, comment=None, logtype='newusers', action='create', title='Usuario:Inquisidor X'),\n",
       " Row(item_id=8564739, timestamp='2015-04-05T19:41:56Z', contributor_username='Camiloski', contributor_id=3613953.0, contributor_ip=None, comment=None, logtype='newusers', action='create', title='Usuario:Camiloski'),\n",
       " Row(item_id=14002326, timestamp='2020-03-28T03:05:14Z', contributor_username='Sagotreespirit', contributor_id=5566534.0, contributor_ip=None, comment='Página redirigida a [[Tanacetum annuum]]', logtype='create', action='create', title='Charamasca'),\n",
       " Row(item_id=13930441, timestamp='2020-03-04T20:42:16Z', contributor_username='Catrina Skateshop', contributor_id=5751130.0, contributor_ip=None, comment='Informacion principal de la tienda, informacion obtenida por su fundador', logtype='create', action='create', title='Catrina skateshop'),\n",
       " Row(item_id=13019898, timestamp='2019-05-06T16:24:37Z', contributor_username='Salvador alc', contributor_id=108047.0, contributor_ip=None, comment='[[WP:BR#A4|No enciclopédico]]', logtype='delete', action='delete', title='Ajak')]"
      ]
     },
     "execution_count": 3,
     "metadata": {},
     "output_type": "execute_result"
    }
   ],
   "source": [
    "rdd = spark.read.parquet(\"../Dataset/logs.parquet\", header = True).rdd\n",
    "rdd.takeSample(False, 5)"
   ]
  },
  {
   "cell_type": "code",
   "execution_count": 4,
   "id": "8678ec27-e472-4f8e-91b6-a6b9953a1e4f",
   "metadata": {},
   "outputs": [
    {
     "data": {
      "text/plain": [
       "'Magister Mathematicae'"
      ]
     },
     "execution_count": 4,
     "metadata": {},
     "output_type": "execute_result"
    }
   ],
   "source": [
    "rdd.filter(lambda x: x[\"logtype\"] == \"block\" and x[\"action\"] != \"unblock\")\\\n",
    "    .map(lambda x: (x[\"contributor_username\"], 1))\\\n",
    "    .reduceByKey(lambda a, b: a + b)\\\n",
    "    .reduce(lambda a, b: a if a[1] > b[1] else b)[0]"
   ]
  }
 ],
 "metadata": {
  "kernelspec": {
   "display_name": "Python 3",
   "language": "python",
   "name": "python3"
  },
  "language_info": {
   "codemirror_mode": {
    "name": "ipython",
    "version": 3
   },
   "file_extension": ".py",
   "mimetype": "text/x-python",
   "name": "python",
   "nbconvert_exporter": "python",
   "pygments_lexer": "ipython3",
   "version": "3.6.9"
  }
 },
 "nbformat": 4,
 "nbformat_minor": 5
}
