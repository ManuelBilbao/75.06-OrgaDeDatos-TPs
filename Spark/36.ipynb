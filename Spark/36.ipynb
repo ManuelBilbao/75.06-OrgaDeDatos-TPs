{
 "cells": [
  {
   "cell_type": "markdown",
   "id": "1fc51f1f-cc0e-4509-bfe1-4cd5b2183f7c",
   "metadata": {},
   "source": [
    "## 36.  La 3-upla de palabras más común en los comentarios de los logs (⭐⭐)"
   ]
  },
  {
   "cell_type": "code",
   "execution_count": 1,
   "id": "9bb84080-9c45-41aa-aa17-2be18a76aae1",
   "metadata": {},
   "outputs": [],
   "source": [
    "from pyspark.sql import *\n",
    "from pyspark.sql.functions import *\n",
    "from pyspark import SparkContext\n",
    "from pyspark.sql import SQLContext\n",
    "\n",
    "from nltk.util import trigrams\n",
    "from nltk.tokenize import word_tokenize"
   ]
  },
  {
   "cell_type": "code",
   "execution_count": 2,
   "id": "215ad505-6b54-44c5-999e-ccd55725587a",
   "metadata": {},
   "outputs": [],
   "source": [
    "spark = SparkSession.builder.getOrCreate()"
   ]
  },
  {
   "cell_type": "code",
   "execution_count": 3,
   "id": "57263bb9-cf16-4b3f-b623-e6214f57a260",
   "metadata": {},
   "outputs": [
    {
     "data": {
      "text/plain": [
       "[Row(item_id=11027653, timestamp='2017-05-04T05:03:58Z', contributor_username='Walter garcia', contributor_id=4612563.0, contributor_ip=None, comment=None, logtype='newusers', action='create', title='Usuario:Walter garcia'),\n",
       " Row(item_id=14266778, timestamp='2020-06-05T20:35:47Z', contributor_username='Falcoyotl', contributor_id=4209574.0, contributor_ip=None, comment='Página creada con «{{subst:Aviso destruir|1=Ciudadela Kennedy (Guayaquil)|2=A1.3}} ~~~~»', logtype='create', action='create', title='Usuario discusión:Lira Cronin'),\n",
       " Row(item_id=14951896, timestamp='2021-01-17T02:21:29Z', contributor_username='InternetArchiveBot', contributor_id=4704851.0, contributor_ip=None, comment='Notificación sobre referencias alteradas que necesitan revisión) #IABot (v2.0.8', logtype='create', action='create', title='Discusión:Periodo protoaksumita'),\n",
       " Row(item_id=9434642, timestamp='2015-09-06T15:55:47Z', contributor_username='Mohanish Sewnath', contributor_id=3915508.0, contributor_ip=None, comment=None, logtype='newusers', action='autocreate', title='Usuario:Mohanish Sewnath'),\n",
       " Row(item_id=1545170, timestamp='2008-07-09T04:28:58Z', contributor_username='Morthi', contributor_id=757539.0, contributor_ip=None, comment=None, logtype='newusers', action='create', title='Usuario:Morthi')]"
      ]
     },
     "execution_count": 3,
     "metadata": {},
     "output_type": "execute_result"
    }
   ],
   "source": [
    "rdd = spark.read.parquet(\"../Dataset/logs.parquet\", header = True).rdd\n",
    "rdd.takeSample(False, 5)"
   ]
  },
  {
   "cell_type": "code",
   "execution_count": 4,
   "id": "b5261c50-431b-45bd-91f3-c23d8181a8b8",
   "metadata": {},
   "outputs": [
    {
     "data": {
      "text/plain": [
       "('[', 'WP', ':')"
      ]
     },
     "execution_count": 4,
     "metadata": {},
     "output_type": "execute_result"
    }
   ],
   "source": [
    "rdd.filter(lambda x: x[\"comment\"] != None)\\\n",
    "    .flatMap(lambda x: list(trigrams(word_tokenize(x[\"comment\"]))))\\\n",
    "    .map(lambda x: (x, 1))\\\n",
    "    .reduceByKey(lambda a, b: a + b)\\\n",
    "    .reduce(lambda a, b: a if a[1] > b[1] else b)[0]"
   ]
  }
 ],
 "metadata": {
  "kernelspec": {
   "display_name": "Python 3",
   "language": "python",
   "name": "python3"
  },
  "language_info": {
   "codemirror_mode": {
    "name": "ipython",
    "version": 3
   },
   "file_extension": ".py",
   "mimetype": "text/x-python",
   "name": "python",
   "nbconvert_exporter": "python",
   "pygments_lexer": "ipython3",
   "version": "3.6.9"
  }
 },
 "nbformat": 4,
 "nbformat_minor": 5
}
